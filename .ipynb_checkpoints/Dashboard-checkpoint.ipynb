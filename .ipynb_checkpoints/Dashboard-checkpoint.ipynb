{
 "cells": [
  {
   "cell_type": "markdown",
   "id": "92e868fa",
   "metadata": {},
   "source": [
    "# Import libraries"
   ]
  },
  {
   "cell_type": "code",
   "execution_count": null,
   "id": "f88a6be2",
   "metadata": {},
   "outputs": [],
   "source": [
    "# To handle data\n",
    "import numpy as np\n",
    "import pandas as pd\n",
    "\n",
    "# To make visualizations\n",
    "import hvplot.pandas\n",
    "import panel as pn; pn.extension()\n",
    "from panel.template import DarkTheme\n",
    "import param\n"
   ]
  },
  {
   "cell_type": "markdown",
   "id": "2091b6b6",
   "metadata": {},
   "source": [
    "# Load data"
   ]
  },
  {
   "cell_type": "code",
   "execution_count": null,
   "id": "ada37446",
   "metadata": {},
   "outputs": [],
   "source": [
    "# data source https://www.kaggle.com/datasets/rounakbanik/pokemon (Public Domain)\n",
    "df = pd.read_csv('pokemon.csv')\n",
    "idf = df.interactive()"
   ]
  },
  {
   "cell_type": "markdown",
   "id": "b0427a93-7c1b-4827-bd9b-f325c7e42f7f",
   "metadata": {},
   "source": [
    "# Basic Visualizations"
   ]
  },
  {
   "cell_type": "code",
   "execution_count": null,
   "id": "37d29441-d00b-47d3-9ad1-78991d9324c7",
   "metadata": {},
   "outputs": [],
   "source": [
    "# if pandas and hvplot are both installed, hvplot can be use as backednd to recreate pandas visualizations (https://hvplot.holoviz.org/user_guide/Pandas_API.html)\n",
    "pd.options.plotting.backend = 'holoviews'\n",
    "df.type2.value_counts().rename('count').plot(kind='bar', title='Type 2 frequency')"
   ]
  },
  {
   "cell_type": "markdown",
   "id": "315ff5ec-cdb4-44b8-9cfa-d8f0038020ed",
   "metadata": {},
   "source": [
    "# Interactive Visualizations"
   ]
  },
  {
   "cell_type": "markdown",
   "id": "42d83fcf-167f-4ff1-90fb-da76b7e9377f",
   "metadata": {},
   "source": [
    "## Setup: selector (widget) & data pipeline"
   ]
  },
  {
   "cell_type": "code",
   "execution_count": null,
   "id": "b7ebd28f-2b7c-4331-801d-eb70db88cb2f",
   "metadata": {},
   "outputs": [],
   "source": [
    "# Creating \"Type1\" Selector (widget)\n",
    "pok_types = list(df.type1.unique())\n",
    "pok_type = pn.widgets.Select(name='Type', options=pok_types)"
   ]
  },
  {
   "cell_type": "code",
   "execution_count": null,
   "id": "dde3f443-2e91-428d-a35f-2aac0e0cc1b6",
   "metadata": {},
   "outputs": [],
   "source": [
    "# Create interaction with data\n",
    "data_pipeline = (\n",
    "    idf[\n",
    "        (idf.type1 == pok_type) |  (idf.type2 == pok_type)\n",
    "    ]\n",
    ")"
   ]
  },
  {
   "cell_type": "markdown",
   "id": "c7b8fecc-5c7b-4b10-9567-cc22be51c0fa",
   "metadata": {},
   "source": [
    "## Viz 0 - Table: info"
   ]
  },
  {
   "cell_type": "code",
   "execution_count": null,
   "id": "12125fb8-d88f-4df6-a482-d13d9c641ec9",
   "metadata": {},
   "outputs": [],
   "source": [
    "viz0 = data_pipeline[['pokedex_number', 'name', 'is_legendary']].hvplot(kind='table',\n",
    "                                                 title='Pokémons', \n",
    "                                                 # c='#AA33AA', \n",
    "                                                )\n",
    "viz0"
   ]
  },
  {
   "cell_type": "markdown",
   "id": "09b77590-b620-46bf-bb75-ae2b7eded791",
   "metadata": {},
   "source": [
    "## VIZ 1 - Scatter Plot: Weight/Height"
   ]
  },
  {
   "cell_type": "code",
   "execution_count": null,
   "id": "7b718d65-7d41-4420-aa0a-16669d4f2d28",
   "metadata": {},
   "outputs": [],
   "source": [
    "# Plot \n",
    "viz1 = data_pipeline.hvplot(x='weight_kg', y='height_m', \n",
    "                     by='type1', \n",
    "                     kind='scatter', \n",
    "                     hover_cols=['name', 'type1', 'type2'], \n",
    "                     title='Relationship between Weight (kg) and Height (m), by Type',\n",
    "                     width=700, height=600,\n",
    "                     grid=True,\n",
    "                    )\n",
    "viz1"
   ]
  },
  {
   "cell_type": "markdown",
   "id": "128352c6-2720-4c37-8f84-7289b81c1f06",
   "metadata": {},
   "source": [
    "## VIZ 2 - Violin: Stats"
   ]
  },
  {
   "cell_type": "code",
   "execution_count": null,
   "id": "913579fc-b85d-49b3-bd82-4d4e4926c690",
   "metadata": {},
   "outputs": [],
   "source": [
    "df.head(2)"
   ]
  },
  {
   "cell_type": "code",
   "execution_count": null,
   "id": "0af7e363-e8f1-4932-a913-2ba6821c59cd",
   "metadata": {},
   "outputs": [],
   "source": [
    "# https://hvplot.holoviz.org/reference/pandas/violin.html\n",
    "# Create interaction with data\n",
    "data_pipeline1 = (\n",
    "    idf[idf.type1 == pok_type][['attack', 'defense', 'sp_attack', 'sp_defense', 'speed']].mean()\n",
    ")\n",
    "viz2 = data_pipeline1.hvplot(kind='area', \n",
    "                             title='AVG Stats Profile per Type', \n",
    "                             color='orange'\n",
    "                            ) \n",
    "viz2"
   ]
  },
  {
   "cell_type": "markdown",
   "id": "a561b077-6ddf-4bf8-b8f9-6e462d5b1107",
   "metadata": {},
   "source": [
    "## VIZ 3 - Bar: Against_type"
   ]
  },
  {
   "cell_type": "code",
   "execution_count": null,
   "id": "34d233ff-b2ae-4d6a-9796-badf7e4be649",
   "metadata": {},
   "outputs": [],
   "source": [
    "viz3 = data_pipeline.iloc[:, 1:19].mean().rename('Damage').hvplot(kind='bar', \n",
    "                                                           title='Weak against...', \n",
    "                                                           width=1000, rot=45, \n",
    "                                                           c='Damage', colorbar=True, colormap='RdYlGn_r' )\n",
    "viz3"
   ]
  },
  {
   "cell_type": "markdown",
   "id": "9241b233-2d4a-43a4-b3f8-23cee9e4d1ae",
   "metadata": {},
   "source": [
    "# Dashboard"
   ]
  },
  {
   "cell_type": "code",
   "execution_count": null,
   "id": "9f9e7247-f28e-412a-83fa-5092dc4f5746",
   "metadata": {},
   "outputs": [],
   "source": [
    "template = pn.template.FastListTemplate(theme=DarkTheme,\n",
    "    title = 'Pokemon VIZ',\n",
    "    sidebar=[\n",
    "        pn.pane.Markdown('# Super Title'),\n",
    "        pn.pane.Markdown('#### Lorem ipsum dolor sit amet. Non quibusdam voluptates et rerum nulla non officiis optio in voluptatem fuga 33 voluptatum debitis et perspiciatis doloremque. Quo incidunt laborum 33 excepturi dolores ad repellendus quibusdam ut culpa omnis. Ea quae molestias aut nihil facilis et deleniti asperiores.'),\n",
    "        pn.pane.JPG('thimo-pedersen-dip9IIwUK6w-unsplash.jpg', sizing_mode='scale_both'),\n",
    "        pn.pane.Markdown('[Photo by Thimo Pedersen on Unsplash](https://unsplash.com/photos/dip9IIwUK6w)'),\n",
    "        pn.pane.Markdown('## Filter by Type'),\n",
    "        pok_type\n",
    "    ],\n",
    "    main=[\n",
    "        pn.Row(\n",
    "                    pn.Column(pn.Row(\n",
    "                              pn.Column(viz0.panel(width=700, height=400, margin=(0,25))), \n",
    "                              pn.Column(viz1.panel(width=700, height=400)),\n",
    "                                    ),\n",
    "                          pn.Row(\n",
    "                              pn.Column(viz2.panel(width=700), margin=(0,25)), \n",
    "                              pn.Column(viz3.panel(width=700))\n",
    "                            )\n",
    "                         ))\n",
    "    ],\n",
    "    accent_base_color='#d78929',\n",
    "    header_background='#d78929',\n",
    "    sidebar_footer='<br><br><br><hr><br><a href=\"https://github.com/pcmaldonado/DeployViz\">GitHub Repository</a>',       \n",
    "    main_max_width='100%'                                        \n",
    ")\n",
    "\n",
    "template.servable();"
   ]
  },
  {
   "cell_type": "code",
   "execution_count": null,
   "id": "539d9214-2793-465c-805d-88dda86af872",
   "metadata": {},
   "outputs": [],
   "source": [
    "template.show()"
   ]
  },
  {
   "cell_type": "code",
   "execution_count": null,
   "id": "96f38739-733d-4f82-a6f8-9307a7c07671",
   "metadata": {},
   "outputs": [],
   "source": []
  }
 ],
 "metadata": {
  "kernelspec": {
   "display_name": "Python 3 (ipykernel)",
   "language": "python",
   "name": "python3"
  },
  "language_info": {
   "codemirror_mode": {
    "name": "ipython",
    "version": 3
   },
   "file_extension": ".py",
   "mimetype": "text/x-python",
   "name": "python",
   "nbconvert_exporter": "python",
   "pygments_lexer": "ipython3",
   "version": "3.9.7"
  }
 },
 "nbformat": 4,
 "nbformat_minor": 5
}
