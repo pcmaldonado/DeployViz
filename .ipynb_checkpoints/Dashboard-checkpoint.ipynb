{
 "cells": [
  {
   "cell_type": "markdown",
   "id": "92e868fa",
   "metadata": {},
   "source": [
    "# Import libraries"
   ]
  },
  {
   "cell_type": "code",
   "execution_count": 12,
   "id": "f88a6be2",
   "metadata": {},
   "outputs": [],
   "source": [
    "# To handle data\n",
    "import numpy as np\n",
    "import pandas as pd\n",
    "\n",
    "# To make visualizations\n",
    "import hvplot.pandas\n",
    "import panel as pn; pn.extension()\n",
    "from panel.template import DarkTheme\n",
    "import param\n"
   ]
  },
  {
   "cell_type": "markdown",
   "id": "2091b6b6",
   "metadata": {},
   "source": [
    "# Load data"
   ]
  },
  {
   "cell_type": "code",
   "execution_count": 2,
   "id": "ada37446",
   "metadata": {},
   "outputs": [],
   "source": [
    "# data source https://www.kaggle.com/datasets/rounakbanik/pokemon (Public Domain)\n",
    "df = pd.read_csv('pokemon.csv')\n",
    "idf = df.interactive()"
   ]
  },
  {
   "cell_type": "markdown",
   "id": "b0427a93-7c1b-4827-bd9b-f325c7e42f7f",
   "metadata": {},
   "source": [
    "# Basic Visualizations"
   ]
  },
  {
   "cell_type": "code",
   "execution_count": 26,
   "id": "37d29441-d00b-47d3-9ad1-78991d9324c7",
   "metadata": {},
   "outputs": [
    {
     "data": {},
     "metadata": {},
     "output_type": "display_data"
    },
    {
     "data": {
      "application/vnd.holoviews_exec.v0+json": "",
      "text/html": [
       "<div id='3110'>\n",
       "\n",
       "\n",
       "\n",
       "\n",
       "\n",
       "  <div class=\"bk-root\" id=\"c12d1f2d-5c6b-426d-8f7c-deff953ce111\" data-root-id=\"3110\"></div>\n",
       "</div>\n",
       "<script type=\"application/javascript\">(function(root) {\n",
       "  function embed_document(root) {\n",
       "    var docs_json = {\"40800d9e-dd5b-49bc-a59f-6c9554cf98e8\":{\"defs\":[{\"extends\":null,\"module\":null,\"name\":\"ReactiveHTML1\",\"overrides\":[],\"properties\":[]},{\"extends\":null,\"module\":null,\"name\":\"FlexBox1\",\"overrides\":[],\"properties\":[{\"default\":\"flex-start\",\"kind\":null,\"name\":\"align_content\"},{\"default\":\"flex-start\",\"kind\":null,\"name\":\"align_items\"},{\"default\":\"row\",\"kind\":null,\"name\":\"flex_direction\"},{\"default\":\"wrap\",\"kind\":null,\"name\":\"flex_wrap\"},{\"default\":\"flex-start\",\"kind\":null,\"name\":\"justify_content\"}]},{\"extends\":null,\"module\":null,\"name\":\"TemplateActions1\",\"overrides\":[],\"properties\":[{\"default\":0,\"kind\":null,\"name\":\"open_modal\"},{\"default\":0,\"kind\":null,\"name\":\"close_modal\"}]},{\"extends\":null,\"module\":null,\"name\":\"MaterialTemplateActions1\",\"overrides\":[],\"properties\":[{\"default\":0,\"kind\":null,\"name\":\"open_modal\"},{\"default\":0,\"kind\":null,\"name\":\"close_modal\"}]}],\"roots\":{\"references\":[{\"attributes\":{},\"id\":\"3132\",\"type\":\"PanTool\"},{\"attributes\":{\"fill_alpha\":{\"value\":0.2},\"fill_color\":{\"value\":\"#30a2da\"},\"hatch_alpha\":{\"value\":0.2},\"hatch_color\":{\"value\":\"#30a2da\"},\"line_alpha\":{\"value\":0.2},\"top\":{\"field\":\"count\"},\"width\":{\"value\":0.8},\"x\":{\"field\":\"index\"}},\"id\":\"3149\",\"type\":\"VBar\"},{\"attributes\":{},\"id\":\"3125\",\"type\":\"CategoricalTicker\"},{\"attributes\":{},\"id\":\"3154\",\"type\":\"CategoricalTickFormatter\"},{\"attributes\":{\"data\":{\"count\":[95,34,34,29,29,25,22,21,20,17,17,15,14,14,13,9,5,4],\"index\":[\"flying\",\"poison\",\"ground\",\"psychic\",\"fairy\",\"fighting\",\"steel\",\"dark\",\"grass\",\"water\",\"dragon\",\"ice\",\"ghost\",\"rock\",\"fire\",\"electric\",\"bug\",\"normal\"]},\"selected\":{\"id\":\"3145\"},\"selection_policy\":{\"id\":\"3166\"}},\"id\":\"3144\",\"type\":\"ColumnDataSource\"},{\"attributes\":{},\"id\":\"3157\",\"type\":\"BasicTickFormatter\"},{\"attributes\":{\"bottom_units\":\"screen\",\"coordinates\":null,\"fill_alpha\":0.5,\"fill_color\":\"lightgrey\",\"group\":null,\"left_units\":\"screen\",\"level\":\"overlay\",\"line_alpha\":1.0,\"line_color\":\"black\",\"line_dash\":[4,4],\"line_width\":2,\"right_units\":\"screen\",\"syncable\":false,\"top_units\":\"screen\"},\"id\":\"3136\",\"type\":\"BoxAnnotation\"},{\"attributes\":{\"axis_label\":\"\",\"coordinates\":null,\"formatter\":{\"id\":\"3157\"},\"group\":null,\"major_label_policy\":{\"id\":\"3158\"},\"ticker\":{\"id\":\"3128\"}},\"id\":\"3127\",\"type\":\"LinearAxis\"},{\"attributes\":{\"bottom\":{\"value\":0},\"fill_alpha\":{\"value\":1.0},\"fill_color\":{\"value\":\"#30a2da\"},\"hatch_alpha\":{\"value\":1.0},\"hatch_color\":{\"value\":\"#30a2da\"},\"hatch_scale\":{\"value\":12.0},\"hatch_weight\":{\"value\":1.0},\"line_alpha\":{\"value\":1.0},\"line_cap\":{\"value\":\"butt\"},\"line_color\":{\"value\":\"black\"},\"line_dash\":{\"value\":[]},\"line_dash_offset\":{\"value\":0},\"line_join\":{\"value\":\"bevel\"},\"line_width\":{\"value\":1},\"top\":{\"field\":\"count\"},\"width\":{\"value\":0.8},\"x\":{\"field\":\"index\"}},\"id\":\"3152\",\"type\":\"VBar\"},{\"attributes\":{\"below\":[{\"id\":\"3124\"}],\"center\":[{\"id\":\"3126\"},{\"id\":\"3130\"}],\"height\":300,\"left\":[{\"id\":\"3127\"}],\"margin\":[5,5,5,5],\"min_border_bottom\":10,\"min_border_left\":10,\"min_border_right\":10,\"min_border_top\":10,\"renderers\":[{\"id\":\"3150\"}],\"sizing_mode\":\"fixed\",\"title\":{\"id\":\"3116\"},\"toolbar\":{\"id\":\"3137\"},\"width\":700,\"x_range\":{\"id\":\"3112\"},\"x_scale\":{\"id\":\"3120\"},\"y_range\":{\"id\":\"3113\"},\"y_scale\":{\"id\":\"3122\"}},\"id\":\"3115\",\"subtype\":\"Figure\",\"type\":\"Plot\"},{\"attributes\":{},\"id\":\"3133\",\"type\":\"WheelZoomTool\"},{\"attributes\":{\"children\":[{\"id\":\"3111\"},{\"id\":\"3115\"},{\"id\":\"3179\"}],\"margin\":[0,0,0,0],\"name\":\"Row07822\",\"tags\":[\"embedded\"]},\"id\":\"3110\",\"type\":\"Row\"},{\"attributes\":{\"axis\":{\"id\":\"3127\"},\"coordinates\":null,\"dimension\":1,\"grid_line_color\":null,\"group\":null,\"ticker\":null},\"id\":\"3130\",\"type\":\"Grid\"},{\"attributes\":{\"margin\":[5,5,5,5],\"name\":\"HSpacer07827\",\"sizing_mode\":\"stretch_width\"},\"id\":\"3179\",\"type\":\"Spacer\"},{\"attributes\":{\"axis_label\":\"\",\"coordinates\":null,\"formatter\":{\"id\":\"3154\"},\"group\":null,\"major_label_policy\":{\"id\":\"3155\"},\"ticker\":{\"id\":\"3125\"}},\"id\":\"3124\",\"type\":\"CategoricalAxis\"},{\"attributes\":{\"tools\":[{\"id\":\"3114\"},{\"id\":\"3131\"},{\"id\":\"3132\"},{\"id\":\"3133\"},{\"id\":\"3134\"},{\"id\":\"3135\"}]},\"id\":\"3137\",\"type\":\"Toolbar\"},{\"attributes\":{\"margin\":[5,5,5,5],\"name\":\"HSpacer07826\",\"sizing_mode\":\"stretch_width\"},\"id\":\"3111\",\"type\":\"Spacer\"},{\"attributes\":{},\"id\":\"3155\",\"type\":\"AllLabels\"},{\"attributes\":{},\"id\":\"3145\",\"type\":\"Selection\"},{\"attributes\":{\"source\":{\"id\":\"3144\"}},\"id\":\"3151\",\"type\":\"CDSView\"},{\"attributes\":{\"axis\":{\"id\":\"3124\"},\"coordinates\":null,\"grid_line_color\":null,\"group\":null,\"ticker\":null},\"id\":\"3126\",\"type\":\"Grid\"},{\"attributes\":{\"fill_color\":{\"value\":\"#30a2da\"},\"hatch_color\":{\"value\":\"#30a2da\"},\"top\":{\"field\":\"count\"},\"width\":{\"value\":0.8},\"x\":{\"field\":\"index\"}},\"id\":\"3147\",\"type\":\"VBar\"},{\"attributes\":{\"fill_alpha\":{\"value\":0.1},\"fill_color\":{\"value\":\"#30a2da\"},\"hatch_alpha\":{\"value\":0.1},\"hatch_color\":{\"value\":\"#30a2da\"},\"line_alpha\":{\"value\":0.1},\"top\":{\"field\":\"count\"},\"width\":{\"value\":0.8},\"x\":{\"field\":\"index\"}},\"id\":\"3148\",\"type\":\"VBar\"},{\"attributes\":{\"coordinates\":null,\"data_source\":{\"id\":\"3144\"},\"glyph\":{\"id\":\"3147\"},\"group\":null,\"hover_glyph\":null,\"muted_glyph\":{\"id\":\"3149\"},\"nonselection_glyph\":{\"id\":\"3148\"},\"selection_glyph\":{\"id\":\"3152\"},\"view\":{\"id\":\"3151\"}},\"id\":\"3150\",\"type\":\"GlyphRenderer\"},{\"attributes\":{\"overlay\":{\"id\":\"3136\"}},\"id\":\"3134\",\"type\":\"BoxZoomTool\"},{\"attributes\":{\"callback\":null,\"renderers\":[{\"id\":\"3150\"}],\"tags\":[\"hv_created\"],\"tooltips\":[[\"index\",\"@{index}\"],[\"count\",\"@{count}\"]]},\"id\":\"3114\",\"type\":\"HoverTool\"},{\"attributes\":{},\"id\":\"3131\",\"type\":\"SaveTool\"},{\"attributes\":{},\"id\":\"3166\",\"type\":\"UnionRenderers\"},{\"attributes\":{},\"id\":\"3122\",\"type\":\"LinearScale\"},{\"attributes\":{},\"id\":\"3158\",\"type\":\"AllLabels\"},{\"attributes\":{},\"id\":\"3135\",\"type\":\"ResetTool\"},{\"attributes\":{},\"id\":\"3128\",\"type\":\"BasicTicker\"},{\"attributes\":{},\"id\":\"3120\",\"type\":\"CategoricalScale\"},{\"attributes\":{\"end\":104.1,\"reset_end\":104.1,\"reset_start\":0.0,\"tags\":[[[\"count\",\"count\",null]]]},\"id\":\"3113\",\"type\":\"Range1d\"},{\"attributes\":{\"coordinates\":null,\"group\":null,\"text\":\"Type 2 frequency\",\"text_color\":\"black\",\"text_font_size\":\"12pt\"},\"id\":\"3116\",\"type\":\"Title\"},{\"attributes\":{\"factors\":[\"flying\",\"poison\",\"ground\",\"psychic\",\"fairy\",\"fighting\",\"steel\",\"dark\",\"grass\",\"water\",\"dragon\",\"ice\",\"ghost\",\"rock\",\"fire\",\"electric\",\"bug\",\"normal\"],\"tags\":[[[\"index\",\"index\",null]]]},\"id\":\"3112\",\"type\":\"FactorRange\"}],\"root_ids\":[\"3110\"]},\"title\":\"Bokeh Application\",\"version\":\"2.4.1\"}};\n",
       "    var render_items = [{\"docid\":\"40800d9e-dd5b-49bc-a59f-6c9554cf98e8\",\"root_ids\":[\"3110\"],\"roots\":{\"3110\":\"c12d1f2d-5c6b-426d-8f7c-deff953ce111\"}}];\n",
       "    root.Bokeh.embed.embed_items_notebook(docs_json, render_items);\n",
       "  }\n",
       "  if (root.Bokeh !== undefined && root.Bokeh.Panel !== undefined) {\n",
       "    embed_document(root);\n",
       "  } else {\n",
       "    var attempts = 0;\n",
       "    var timer = setInterval(function(root) {\n",
       "      if (root.Bokeh !== undefined && root.Bokeh.Panel !== undefined) {\n",
       "        clearInterval(timer);\n",
       "        embed_document(root);\n",
       "      } else if (document.readyState == \"complete\") {\n",
       "        attempts++;\n",
       "        if (attempts > 200) {\n",
       "          clearInterval(timer);\n",
       "          console.log(\"Bokeh: ERROR: Unable to run BokehJS code because BokehJS library is missing\");\n",
       "        }\n",
       "      }\n",
       "    }, 25, root)\n",
       "  }\n",
       "})(window);</script>"
      ],
      "text/plain": [
       ":Bars   [index]   (count)"
      ]
     },
     "execution_count": 26,
     "metadata": {
      "application/vnd.holoviews_exec.v0+json": {
       "id": "3110"
      }
     },
     "output_type": "execute_result"
    }
   ],
   "source": [
    "# if pandas and hvplot are both installed, hvplot can be use as backednd to recreate pandas visualizations (https://hvplot.holoviz.org/user_guide/Pandas_API.html)\n",
    "pd.options.plotting.backend = 'holoviews'\n",
    "df.type2.value_counts().rename('count').plot(kind='bar', title='Type 2 frequency')"
   ]
  },
  {
   "cell_type": "markdown",
   "id": "315ff5ec-cdb4-44b8-9cfa-d8f0038020ed",
   "metadata": {},
   "source": [
    "# Interactive Visualizations"
   ]
  },
  {
   "cell_type": "markdown",
   "id": "42d83fcf-167f-4ff1-90fb-da76b7e9377f",
   "metadata": {},
   "source": [
    "## Setup: selector (widget) & data pipeline"
   ]
  },
  {
   "cell_type": "code",
   "execution_count": 3,
   "id": "b7ebd28f-2b7c-4331-801d-eb70db88cb2f",
   "metadata": {},
   "outputs": [],
   "source": [
    "# Creating \"Type1\" Selector (widget)\n",
    "pok_types = list(df.type1.unique())\n",
    "pok_type = pn.widgets.Select(name='Type', options=pok_types)"
   ]
  },
  {
   "cell_type": "code",
   "execution_count": 4,
   "id": "dde3f443-2e91-428d-a35f-2aac0e0cc1b6",
   "metadata": {},
   "outputs": [],
   "source": [
    "# Create interaction with data\n",
    "data_pipeline = (\n",
    "    idf[\n",
    "        (idf.type1 == pok_type) |  (idf.type2 == pok_type)\n",
    "    ]\n",
    ")"
   ]
  },
  {
   "cell_type": "markdown",
   "id": "c7b8fecc-5c7b-4b10-9567-cc22be51c0fa",
   "metadata": {},
   "source": [
    "## Viz 0 - KDE: height"
   ]
  },
  {
   "cell_type": "code",
   "execution_count": 37,
   "id": "12125fb8-d88f-4df6-a482-d13d9c641ec9",
   "metadata": {},
   "outputs": [
    {
     "data": {},
     "metadata": {},
     "output_type": "display_data"
    },
    {
     "data": {},
     "metadata": {},
     "output_type": "display_data"
    },
    {
     "data": {
      "application/vnd.holoviews_exec.v0+json": "",
      "text/html": [
       "<div id='3665'>\n",
       "\n",
       "\n",
       "\n",
       "\n",
       "\n",
       "  <div class=\"bk-root\" id=\"83476fb7-ad39-4b1f-9cd7-9050ce749654\" data-root-id=\"3665\"></div>\n",
       "</div>\n",
       "<script type=\"application/javascript\">(function(root) {\n",
       "  function embed_document(root) {\n",
       "    var docs_json = {\"223e4aaa-de54-4455-b500-fe381446ed1d\":{\"defs\":[{\"extends\":null,\"module\":null,\"name\":\"ReactiveHTML1\",\"overrides\":[],\"properties\":[]},{\"extends\":null,\"module\":null,\"name\":\"FlexBox1\",\"overrides\":[],\"properties\":[{\"default\":\"flex-start\",\"kind\":null,\"name\":\"align_content\"},{\"default\":\"flex-start\",\"kind\":null,\"name\":\"align_items\"},{\"default\":\"row\",\"kind\":null,\"name\":\"flex_direction\"},{\"default\":\"wrap\",\"kind\":null,\"name\":\"flex_wrap\"},{\"default\":\"flex-start\",\"kind\":null,\"name\":\"justify_content\"}]},{\"extends\":null,\"module\":null,\"name\":\"TemplateActions1\",\"overrides\":[],\"properties\":[{\"default\":0,\"kind\":null,\"name\":\"open_modal\"},{\"default\":0,\"kind\":null,\"name\":\"close_modal\"}]},{\"extends\":null,\"module\":null,\"name\":\"MaterialTemplateActions1\",\"overrides\":[],\"properties\":[{\"default\":0,\"kind\":null,\"name\":\"open_modal\"},{\"default\":0,\"kind\":null,\"name\":\"close_modal\"}]}],\"roots\":{\"references\":[{\"attributes\":{\"data\":{\"height_m\":{\"__ndarray__\":\"ZmZmZmZm5j8AAAAAAADwPwAAAAAAAABAAAAAAAAA4D+amZmZmZnpPzMzMzMzM/M/MzMzMzMz0z8AAAAAAADwP2ZmZmZmZuY/AAAAAAAA8D8zMzMzMzP7P5qZmZmZmdk/AAAAAAAA+H8AAAAAAADwP83MzMzMzOw/MzMzMzMz8z/NzMzMzMz8P5qZmZmZmdk/mpmZmZmZ2T8zMzMzMzPjP5qZmZmZmek/MzMzMzMz0z+amZmZmZnpPzMzMzMzM+M/AAAAAAAA4D/NzMzMzMzsPzMzMzMzM/s/AAAAAAAA4D8zMzMzMzPzPwAAAAAAAPg/AAAAAAAA4D8AAAAAAADwP83MzMzMzPQ/mpmZmZmZ2T8zMzMzMzPzPzMzMzMzM9M/mpmZmZmZ2T/NzMzMzMz0PwAAAAAAAPA/AAAAAAAA+D8AAAAAAAAAQJqZmZmZmdk/mpmZmZmZ8T+amZmZmZkBQJqZmZmZmck/zczMzMzM7D8AAAAAAADgP5qZmZmZmdk/AAAAAAAA4D9mZmZmZmb2PwAAAAAAAPA/mpmZmZmZAUAAAAAAAAAAQAAAAAAAAPA/mpmZmZmZyT8zMzMzMzPjP5qZmZmZmek/ZmZmZmZmCkAzMzMzMzPjP5qZmZmZmfE/MzMzMzMz0z8AAAAAAADgPzMzMzMzM/M/MzMzMzMz0z9mZmZmZmbmPwAAAAAAAOA/mpmZmZmZ8T8AAAAAAADwPzMzMzMzM+M/ZmZmZmZm/j+amZmZmZnJPzMzMzMzM+M/MzMzMzMz4z8AAAAAAADwPwAAAAAAAABAmpmZmZmZ2T9mZmZmZmbmP5qZmZmZmfk/zczMzMzM7D8zMzMzMzP7P5qZmZmZmdk/AAAAAAAA+D+amZmZmZnpPzMzMzMzM/s/MzMzMzMz0z9mZmZmZmbmP5qZmZmZmfk/MzMzMzMz0z/NzMzMzMzsP5qZmZmZmck/AAAAAAAA8D8zMzMzMzPTP2ZmZmZmZuY/MzMzMzMz8z8zMzMzMzMPQGZmZmZmZv4/MzMzMzMz0z8=\",\"dtype\":\"float64\",\"order\":\"little\",\"shape\":[97]}},\"selected\":{\"id\":\"3673\"},\"selection_policy\":{\"id\":\"3684\"}},\"id\":\"3672\",\"type\":\"ColumnDataSource\"},{\"attributes\":{\"editor\":{\"id\":\"3675\"},\"field\":\"height_m\",\"formatter\":{\"id\":\"3674\"},\"title\":\"height_m\"},\"id\":\"3676\",\"type\":\"TableColumn\"},{\"attributes\":{\"margin\":[5,10,5,10],\"options\":[\"grass\",\"fire\",\"water\",\"bug\",\"normal\",\"poison\",\"electric\",\"ground\",\"fairy\",\"fighting\",\"psychic\",\"rock\",\"ghost\",\"ice\",\"dragon\",\"dark\",\"steel\",\"flying\"],\"title\":\"Type\",\"value\":\"grass\"},\"id\":\"3669\",\"type\":\"Select\"},{\"attributes\":{},\"id\":\"3673\",\"type\":\"Selection\"},{\"attributes\":{\"children\":[{\"id\":\"3667\"},{\"id\":\"3671\"}],\"margin\":[0,0,0,0],\"name\":\"Column10748\"},\"id\":\"3666\",\"type\":\"Column\"},{\"attributes\":{\"format\":\"0,0.0[00000]\"},\"id\":\"3674\",\"type\":\"NumberFormatter\"},{\"attributes\":{\"style\":{\"white-space\":\"nowrap\"},\"text\":\"<span style=\\\"color:black;font-family:Arial;font-style:bold;font-weight:bold;font-size:12pt\\\">Histogram - Height distribution and spread</span>\",\"width\":450},\"id\":\"3682\",\"type\":\"Div\"},{\"attributes\":{\"children\":[{\"id\":\"3668\"},{\"id\":\"3670\"}],\"margin\":[0,0,0,0],\"name\":\"Row10747\"},\"id\":\"3667\",\"type\":\"Row\"},{\"attributes\":{\"source\":{\"id\":\"3672\"}},\"id\":\"3681\",\"type\":\"CDSView\"},{\"attributes\":{},\"id\":\"3684\",\"type\":\"UnionRenderers\"},{\"attributes\":{\"children\":[{\"id\":\"3682\"},{\"id\":\"3679\"}]},\"id\":\"3683\",\"type\":\"Column\"},{\"attributes\":{\"children\":[{\"id\":\"3666\"}],\"margin\":[0,0,0,0],\"name\":\"Row10749\"},\"id\":\"3665\",\"type\":\"Row\"},{\"attributes\":{},\"id\":\"3675\",\"type\":\"NumberEditor\"},{\"attributes\":{\"client_comm_id\":\"85dbb885216b4f5690df45b05338e0b4\",\"comm_id\":\"b9f01337c8274a1eba55e94afe4ea9cd\",\"plot_id\":\"3665\"},\"id\":\"3694\",\"type\":\"panel.models.comm_manager.CommManager\"},{\"attributes\":{\"children\":[{\"id\":\"3683\"}],\"margin\":[0,0,0,0],\"name\":\"Row10634\"},\"id\":\"3671\",\"type\":\"Row\"},{\"attributes\":{\"children\":[{\"id\":\"3669\"}],\"margin\":[0,0,0,0],\"name\":\"Column10629\"},\"id\":\"3668\",\"type\":\"Column\"},{\"attributes\":{\"margin\":[5,5,5,5],\"name\":\"HSpacer10746\",\"sizing_mode\":\"stretch_width\"},\"id\":\"3670\",\"type\":\"Spacer\"},{\"attributes\":{\"columns\":[{\"id\":\"3676\"}],\"height\":300,\"reorderable\":false,\"source\":{\"id\":\"3672\"},\"view\":{\"id\":\"3681\"},\"width\":700},\"id\":\"3679\",\"type\":\"DataTable\"}],\"root_ids\":[\"3665\",\"3694\"]},\"title\":\"Bokeh Application\",\"version\":\"2.4.1\"}};\n",
       "    var render_items = [{\"docid\":\"223e4aaa-de54-4455-b500-fe381446ed1d\",\"root_ids\":[\"3665\"],\"roots\":{\"3665\":\"83476fb7-ad39-4b1f-9cd7-9050ce749654\"}}];\n",
       "    root.Bokeh.embed.embed_items_notebook(docs_json, render_items);\n",
       "  }\n",
       "  if (root.Bokeh !== undefined && root.Bokeh.Panel !== undefined) {\n",
       "    embed_document(root);\n",
       "  } else {\n",
       "    var attempts = 0;\n",
       "    var timer = setInterval(function(root) {\n",
       "      if (root.Bokeh !== undefined && root.Bokeh.Panel !== undefined) {\n",
       "        clearInterval(timer);\n",
       "        embed_document(root);\n",
       "      } else if (document.readyState == \"complete\") {\n",
       "        attempts++;\n",
       "        if (attempts > 200) {\n",
       "          clearInterval(timer);\n",
       "          console.log(\"Bokeh: ERROR: Unable to run BokehJS code because BokehJS library is missing\");\n",
       "        }\n",
       "      }\n",
       "    }, 25, root)\n",
       "  }\n",
       "})(window);</script>"
      ],
      "text/plain": [
       "<hvplot.interactive.Interactive at 0x25552463a60>"
      ]
     },
     "execution_count": 37,
     "metadata": {
      "application/vnd.holoviews_exec.v0+json": {
       "id": "3665"
      }
     },
     "output_type": "execute_result"
    }
   ],
   "source": [
    "viz0 = data_pipeline.height_m.hvplot(kind='table',\n",
    "                                     title='Histogram - Height distribution and spread', \n",
    "                                     c='#AA33AA'\n",
    "                                    )\n",
    "viz0"
   ]
  },
  {
   "cell_type": "code",
   "execution_count": 29,
   "id": "1a0ba9a4-de84-4a3a-bac7-82e493b321ef",
   "metadata": {},
   "outputs": [
    {
     "data": {
      "text/html": [
       "<div>\n",
       "<style scoped>\n",
       "    .dataframe tbody tr th:only-of-type {\n",
       "        vertical-align: middle;\n",
       "    }\n",
       "\n",
       "    .dataframe tbody tr th {\n",
       "        vertical-align: top;\n",
       "    }\n",
       "\n",
       "    .dataframe thead th {\n",
       "        text-align: right;\n",
       "    }\n",
       "</style>\n",
       "<table border=\"1\" class=\"dataframe\">\n",
       "  <thead>\n",
       "    <tr style=\"text-align: right;\">\n",
       "      <th></th>\n",
       "      <th>abilities</th>\n",
       "      <th>against_bug</th>\n",
       "      <th>against_dark</th>\n",
       "      <th>against_dragon</th>\n",
       "      <th>against_electric</th>\n",
       "      <th>against_fairy</th>\n",
       "      <th>against_fight</th>\n",
       "      <th>against_fire</th>\n",
       "      <th>against_flying</th>\n",
       "      <th>against_ghost</th>\n",
       "      <th>...</th>\n",
       "      <th>percentage_male</th>\n",
       "      <th>pokedex_number</th>\n",
       "      <th>sp_attack</th>\n",
       "      <th>sp_defense</th>\n",
       "      <th>speed</th>\n",
       "      <th>type1</th>\n",
       "      <th>type2</th>\n",
       "      <th>weight_kg</th>\n",
       "      <th>generation</th>\n",
       "      <th>is_legendary</th>\n",
       "    </tr>\n",
       "  </thead>\n",
       "  <tbody>\n",
       "    <tr>\n",
       "      <th>0</th>\n",
       "      <td>['Overgrow', 'Chlorophyll']</td>\n",
       "      <td>1.0</td>\n",
       "      <td>1.0</td>\n",
       "      <td>1.0</td>\n",
       "      <td>0.5</td>\n",
       "      <td>0.5</td>\n",
       "      <td>0.5</td>\n",
       "      <td>2.0</td>\n",
       "      <td>2.0</td>\n",
       "      <td>1.0</td>\n",
       "      <td>...</td>\n",
       "      <td>88.1</td>\n",
       "      <td>1</td>\n",
       "      <td>65</td>\n",
       "      <td>65</td>\n",
       "      <td>45</td>\n",
       "      <td>grass</td>\n",
       "      <td>poison</td>\n",
       "      <td>6.9</td>\n",
       "      <td>1</td>\n",
       "      <td>0</td>\n",
       "    </tr>\n",
       "  </tbody>\n",
       "</table>\n",
       "<p>1 rows × 41 columns</p>\n",
       "</div>"
      ],
      "text/plain": [
       "                     abilities  against_bug  against_dark  against_dragon  \\\n",
       "0  ['Overgrow', 'Chlorophyll']          1.0           1.0             1.0   \n",
       "\n",
       "   against_electric  against_fairy  against_fight  against_fire  \\\n",
       "0               0.5            0.5            0.5           2.0   \n",
       "\n",
       "   against_flying  against_ghost  ...  percentage_male  pokedex_number  \\\n",
       "0             2.0            1.0  ...             88.1               1   \n",
       "\n",
       "   sp_attack  sp_defense  speed  type1   type2  weight_kg  generation  \\\n",
       "0         65          65     45  grass  poison        6.9           1   \n",
       "\n",
       "   is_legendary  \n",
       "0             0  \n",
       "\n",
       "[1 rows x 41 columns]"
      ]
     },
     "execution_count": 29,
     "metadata": {},
     "output_type": "execute_result"
    }
   ],
   "source": [
    "df.head(1)"
   ]
  },
  {
   "cell_type": "markdown",
   "id": "09b77590-b620-46bf-bb75-ae2b7eded791",
   "metadata": {},
   "source": [
    "## VIZ 1 - Scatter Plot: Weight/Height"
   ]
  },
  {
   "cell_type": "code",
   "execution_count": 6,
   "id": "7b718d65-7d41-4420-aa0a-16669d4f2d28",
   "metadata": {},
   "outputs": [
    {
     "data": {},
     "metadata": {},
     "output_type": "display_data"
    },
    {
     "data": {},
     "metadata": {},
     "output_type": "display_data"
    },
    {
     "data": {
      "application/vnd.holoviews_exec.v0+json": "",
      "text/html": [
       "<div id='1169'>\n",
       "\n",
       "\n",
       "\n",
       "\n",
       "\n",
       "  <div class=\"bk-root\" id=\"57c112f1-44d5-492b-a109-588d642e04dd\" data-root-id=\"1169\"></div>\n",
       "</div>\n",
       "<script type=\"application/javascript\">(function(root) {\n",
       "  function embed_document(root) {\n",
       "    var docs_json = {\"d720cf59-f976-4ac8-9135-6f2dda6e86be\":{\"defs\":[{\"extends\":null,\"module\":null,\"name\":\"ReactiveHTML1\",\"overrides\":[],\"properties\":[]},{\"extends\":null,\"module\":null,\"name\":\"FlexBox1\",\"overrides\":[],\"properties\":[{\"default\":\"flex-start\",\"kind\":null,\"name\":\"align_content\"},{\"default\":\"flex-start\",\"kind\":null,\"name\":\"align_items\"},{\"default\":\"row\",\"kind\":null,\"name\":\"flex_direction\"},{\"default\":\"wrap\",\"kind\":null,\"name\":\"flex_wrap\"},{\"default\":\"flex-start\",\"kind\":null,\"name\":\"justify_content\"}]},{\"extends\":null,\"module\":null,\"name\":\"TemplateActions1\",\"overrides\":[],\"properties\":[{\"default\":0,\"kind\":null,\"name\":\"open_modal\"},{\"default\":0,\"kind\":null,\"name\":\"close_modal\"}]},{\"extends\":null,\"module\":null,\"name\":\"MaterialTemplateActions1\",\"overrides\":[],\"properties\":[{\"default\":0,\"kind\":null,\"name\":\"open_modal\"},{\"default\":0,\"kind\":null,\"name\":\"close_modal\"}]}],\"roots\":{\"references\":[{\"attributes\":{\"fill_alpha\":{\"value\":0.1},\"fill_color\":{\"value\":\"#e5ae38\"},\"hatch_alpha\":{\"value\":0.1},\"hatch_color\":{\"value\":\"#e5ae38\"},\"line_alpha\":{\"value\":0.1},\"line_color\":{\"value\":\"#e5ae38\"},\"size\":{\"value\":5.477225575051661},\"x\":{\"field\":\"weight_kg\"},\"y\":{\"field\":\"height_m\"}},\"id\":\"1270\",\"type\":\"Scatter\"},{\"attributes\":{\"source\":{\"id\":\"1244\"}},\"id\":\"1251\",\"type\":\"CDSView\"},{\"attributes\":{\"bottom_units\":\"screen\",\"coordinates\":null,\"fill_alpha\":0.5,\"fill_color\":\"lightgrey\",\"group\":null,\"left_units\":\"screen\",\"level\":\"overlay\",\"line_alpha\":1.0,\"line_color\":\"black\",\"line_dash\":[4,4],\"line_width\":2,\"right_units\":\"screen\",\"syncable\":false,\"top_units\":\"screen\"},\"id\":\"1207\",\"type\":\"BoxAnnotation\"},{\"attributes\":{},\"id\":\"1238\",\"type\":\"UnionRenderers\"},{\"attributes\":{\"label\":{\"value\":\"ghost\"},\"renderers\":[{\"id\":\"1250\"}]},\"id\":\"1264\",\"type\":\"LegendItem\"},{\"attributes\":{\"angle\":{\"value\":0.0},\"fill_alpha\":{\"value\":1.0},\"fill_color\":{\"value\":\"#6d904f\"},\"hatch_alpha\":{\"value\":1.0},\"hatch_color\":{\"value\":\"#6d904f\"},\"hatch_scale\":{\"value\":12.0},\"hatch_weight\":{\"value\":1.0},\"line_alpha\":{\"value\":1.0},\"line_cap\":{\"value\":\"butt\"},\"line_color\":{\"value\":\"#6d904f\"},\"line_dash\":{\"value\":[]},\"line_dash_offset\":{\"value\":0},\"line_join\":{\"value\":\"bevel\"},\"line_width\":{\"value\":1},\"marker\":{\"value\":\"circle\"},\"size\":{\"value\":5.477225575051661},\"x\":{\"field\":\"weight_kg\"},\"y\":{\"field\":\"height_m\"}},\"id\":\"1315\",\"type\":\"Scatter\"},{\"attributes\":{\"label\":{\"value\":\"water\"},\"renderers\":[{\"id\":\"1380\"}]},\"id\":\"1404\",\"type\":\"LegendItem\"},{\"attributes\":{\"fill_alpha\":{\"value\":0.2},\"fill_color\":{\"value\":\"#9467bd\"},\"hatch_alpha\":{\"value\":0.2},\"hatch_color\":{\"value\":\"#9467bd\"},\"line_alpha\":{\"value\":0.2},\"line_color\":{\"value\":\"#9467bd\"},\"size\":{\"value\":5.477225575051661},\"x\":{\"field\":\"weight_kg\"},\"y\":{\"field\":\"height_m\"}},\"id\":\"1379\",\"type\":\"Scatter\"},{\"attributes\":{},\"id\":\"1261\",\"type\":\"UnionRenderers\"},{\"attributes\":{\"label\":{\"value\":\"rock\"},\"renderers\":[{\"id\":\"1350\"}]},\"id\":\"1372\",\"type\":\"LegendItem\"},{\"attributes\":{\"data\":{\"height_m\":{\"__ndarray__\":\"AAAAAAAA8D8AAAAAAAD4Pw==\",\"dtype\":\"float64\",\"order\":\"little\",\"shape\":[2]},\"name\":[\"Lileep\",\"Cradily\"],\"type1\":[\"rock\",\"rock\"],\"type2\":[\"grass\",\"grass\"],\"weight_kg\":{\"__ndarray__\":\"zczMzMzMN0AzMzMzMzNOQA==\",\"dtype\":\"float64\",\"order\":\"little\",\"shape\":[2]}},\"selected\":{\"id\":\"1345\"},\"selection_policy\":{\"id\":\"1369\"}},\"id\":\"1344\",\"type\":\"ColumnDataSource\"},{\"attributes\":{},\"id\":\"1401\",\"type\":\"UnionRenderers\"},{\"attributes\":{\"end\":4.27,\"reset_end\":4.27,\"reset_start\":-0.16999999999999998,\"start\":-0.16999999999999998,\"tags\":[[[\"height_m\",\"height_m\",null]]]},\"id\":\"1177\",\"type\":\"Range1d\"},{\"attributes\":{\"children\":[{\"id\":\"1185\"}],\"margin\":[0,0,0,0],\"name\":\"Row02522\"},\"id\":\"1175\",\"type\":\"Row\"},{\"attributes\":{},\"id\":\"1339\",\"type\":\"UnionRenderers\"},{\"attributes\":{},\"id\":\"1202\",\"type\":\"SaveTool\"},{\"attributes\":{\"fill_color\":{\"value\":\"#8b8b8b\"},\"hatch_color\":{\"value\":\"#8b8b8b\"},\"line_color\":{\"value\":\"#8b8b8b\"},\"size\":{\"value\":5.477225575051661},\"x\":{\"field\":\"weight_kg\"},\"y\":{\"field\":\"height_m\"}},\"id\":\"1319\",\"type\":\"Scatter\"},{\"attributes\":{\"fill_color\":{\"value\":\"#9467bd\"},\"hatch_color\":{\"value\":\"#9467bd\"},\"line_color\":{\"value\":\"#9467bd\"},\"size\":{\"value\":5.477225575051661},\"x\":{\"field\":\"weight_kg\"},\"y\":{\"field\":\"height_m\"}},\"id\":\"1377\",\"type\":\"Scatter\"},{\"attributes\":{\"fill_alpha\":{\"value\":0.1},\"fill_color\":{\"value\":\"#6d904f\"},\"hatch_alpha\":{\"value\":0.1},\"hatch_color\":{\"value\":\"#6d904f\"},\"line_alpha\":{\"value\":0.1},\"line_color\":{\"value\":\"#6d904f\"},\"size\":{\"value\":5.477225575051661},\"x\":{\"field\":\"weight_kg\"},\"y\":{\"field\":\"height_m\"}},\"id\":\"1294\",\"type\":\"Scatter\"},{\"attributes\":{\"fill_alpha\":{\"value\":0.2},\"fill_color\":{\"value\":\"#17becf\"},\"hatch_alpha\":{\"value\":0.2},\"hatch_color\":{\"value\":\"#17becf\"},\"line_alpha\":{\"value\":0.2},\"line_color\":{\"value\":\"#17becf\"},\"size\":{\"value\":5.477225575051661},\"x\":{\"field\":\"weight_kg\"},\"y\":{\"field\":\"height_m\"}},\"id\":\"1349\",\"type\":\"Scatter\"},{\"attributes\":{},\"id\":\"1216\",\"type\":\"BasicTickFormatter\"},{\"attributes\":{\"fill_color\":{\"value\":\"#17becf\"},\"hatch_color\":{\"value\":\"#17becf\"},\"line_color\":{\"value\":\"#17becf\"},\"size\":{\"value\":5.477225575051661},\"x\":{\"field\":\"weight_kg\"},\"y\":{\"field\":\"height_m\"}},\"id\":\"1347\",\"type\":\"Scatter\"},{\"attributes\":{\"angle\":{\"value\":0.0},\"fill_alpha\":{\"value\":1.0},\"fill_color\":{\"value\":\"#e5ae38\"},\"hatch_alpha\":{\"value\":1.0},\"hatch_color\":{\"value\":\"#e5ae38\"},\"hatch_scale\":{\"value\":12.0},\"hatch_weight\":{\"value\":1.0},\"line_alpha\":{\"value\":1.0},\"line_cap\":{\"value\":\"butt\"},\"line_color\":{\"value\":\"#e5ae38\"},\"line_dash\":{\"value\":[]},\"line_dash_offset\":{\"value\":0},\"line_join\":{\"value\":\"bevel\"},\"line_width\":{\"value\":1},\"marker\":{\"value\":\"circle\"},\"size\":{\"value\":5.477225575051661},\"x\":{\"field\":\"weight_kg\"},\"y\":{\"field\":\"height_m\"}},\"id\":\"1289\",\"type\":\"Scatter\"},{\"attributes\":{},\"id\":\"1217\",\"type\":\"AllLabels\"},{\"attributes\":{},\"id\":\"1220\",\"type\":\"AllLabels\"},{\"attributes\":{},\"id\":\"1369\",\"type\":\"UnionRenderers\"},{\"attributes\":{\"children\":[{\"id\":\"1171\"},{\"id\":\"1175\"}],\"margin\":[0,0,0,0],\"name\":\"Column02827\"},\"id\":\"1170\",\"type\":\"Column\"},{\"attributes\":{\"source\":{\"id\":\"1344\"}},\"id\":\"1351\",\"type\":\"CDSView\"},{\"attributes\":{},\"id\":\"1219\",\"type\":\"BasicTickFormatter\"},{\"attributes\":{\"callback\":null,\"renderers\":[{\"id\":\"1229\"},{\"id\":\"1250\"},{\"id\":\"1272\"},{\"id\":\"1296\"},{\"id\":\"1322\"},{\"id\":\"1350\"},{\"id\":\"1380\"}],\"tags\":[\"hv_created\"],\"tooltips\":[[\"type1\",\"@{type1}\"],[\"weight_kg\",\"@{weight_kg}\"],[\"height_m\",\"@{height_m}\"],[\"name\",\"@{name}\"],[\"type2\",\"@{type2}\"]]},\"id\":\"1178\",\"type\":\"HoverTool\"},{\"attributes\":{\"data\":{\"height_m\":{\"__ndarray__\":\"MzMzMzMz4z8=\",\"dtype\":\"float64\",\"order\":\"little\",\"shape\":[1]},\"name\":[\"Celebi\"],\"type1\":[\"psychic\"],\"type2\":[\"grass\"],\"weight_kg\":{\"__ndarray__\":\"AAAAAAAAFEA=\",\"dtype\":\"float64\",\"order\":\"little\",\"shape\":[1]}},\"selected\":{\"id\":\"1317\"},\"selection_policy\":{\"id\":\"1339\"}},\"id\":\"1316\",\"type\":\"ColumnDataSource\"},{\"attributes\":{\"fill_alpha\":{\"value\":0.1},\"fill_color\":{\"value\":\"#17becf\"},\"hatch_alpha\":{\"value\":0.1},\"hatch_color\":{\"value\":\"#17becf\"},\"line_alpha\":{\"value\":0.1},\"line_color\":{\"value\":\"#17becf\"},\"size\":{\"value\":5.477225575051661},\"x\":{\"field\":\"weight_kg\"},\"y\":{\"field\":\"height_m\"}},\"id\":\"1348\",\"type\":\"Scatter\"},{\"attributes\":{\"overlay\":{\"id\":\"1207\"}},\"id\":\"1205\",\"type\":\"BoxZoomTool\"},{\"attributes\":{\"children\":[{\"id\":\"1172\"},{\"id\":\"1174\"}],\"margin\":[0,0,0,0],\"name\":\"Row02826\"},\"id\":\"1171\",\"type\":\"Row\"},{\"attributes\":{\"coordinates\":null,\"data_source\":{\"id\":\"1344\"},\"glyph\":{\"id\":\"1347\"},\"group\":null,\"hover_glyph\":null,\"muted_glyph\":{\"id\":\"1349\"},\"nonselection_glyph\":{\"id\":\"1348\"},\"selection_glyph\":{\"id\":\"1373\"},\"view\":{\"id\":\"1351\"}},\"id\":\"1350\",\"type\":\"GlyphRenderer\"},{\"attributes\":{\"children\":[{\"id\":\"1170\"}],\"margin\":[0,0,0,0],\"name\":\"Row02828\"},\"id\":\"1169\",\"type\":\"Row\"},{\"attributes\":{\"coordinates\":null,\"data_source\":{\"id\":\"1290\"},\"glyph\":{\"id\":\"1293\"},\"group\":null,\"hover_glyph\":null,\"muted_glyph\":{\"id\":\"1295\"},\"nonselection_glyph\":{\"id\":\"1294\"},\"selection_glyph\":{\"id\":\"1315\"},\"view\":{\"id\":\"1297\"}},\"id\":\"1296\",\"type\":\"GlyphRenderer\"},{\"attributes\":{\"click_policy\":\"mute\",\"coordinates\":null,\"group\":null,\"items\":[{\"id\":\"1242\"},{\"id\":\"1264\"},{\"id\":\"1288\"},{\"id\":\"1314\"},{\"id\":\"1342\"},{\"id\":\"1372\"},{\"id\":\"1404\"}],\"location\":[0,0],\"title\":\"type1\"},\"id\":\"1241\",\"type\":\"Legend\"},{\"attributes\":{},\"id\":\"1190\",\"type\":\"LinearScale\"},{\"attributes\":{\"coordinates\":null,\"data_source\":{\"id\":\"1316\"},\"glyph\":{\"id\":\"1319\"},\"group\":null,\"hover_glyph\":null,\"muted_glyph\":{\"id\":\"1321\"},\"nonselection_glyph\":{\"id\":\"1320\"},\"selection_glyph\":{\"id\":\"1343\"},\"view\":{\"id\":\"1323\"}},\"id\":\"1322\",\"type\":\"GlyphRenderer\"},{\"attributes\":{},\"id\":\"1345\",\"type\":\"Selection\"},{\"attributes\":{\"fill_alpha\":{\"value\":0.1},\"fill_color\":{\"value\":\"#30a2da\"},\"hatch_alpha\":{\"value\":0.1},\"hatch_color\":{\"value\":\"#30a2da\"},\"line_alpha\":{\"value\":0.1},\"line_color\":{\"value\":\"#30a2da\"},\"size\":{\"value\":5.477225575051661},\"x\":{\"field\":\"weight_kg\"},\"y\":{\"field\":\"height_m\"}},\"id\":\"1227\",\"type\":\"Scatter\"},{\"attributes\":{\"fill_alpha\":{\"value\":0.1},\"fill_color\":{\"value\":\"#8b8b8b\"},\"hatch_alpha\":{\"value\":0.1},\"hatch_color\":{\"value\":\"#8b8b8b\"},\"line_alpha\":{\"value\":0.1},\"line_color\":{\"value\":\"#8b8b8b\"},\"size\":{\"value\":5.477225575051661},\"x\":{\"field\":\"weight_kg\"},\"y\":{\"field\":\"height_m\"}},\"id\":\"1320\",\"type\":\"Scatter\"},{\"attributes\":{},\"id\":\"1267\",\"type\":\"Selection\"},{\"attributes\":{\"label\":{\"value\":\"psychic\"},\"renderers\":[{\"id\":\"1322\"}]},\"id\":\"1342\",\"type\":\"LegendItem\"},{\"attributes\":{\"data\":{\"height_m\":{\"__ndarray__\":\"MzMzMzMz0z8AAAAAAADwPwAAAAAAAOA/MzMzMzMz0z8AAAAAAADgPzMzMzMzM/M/\",\"dtype\":\"float64\",\"order\":\"little\",\"shape\":[6]},\"name\":[\"Paras\",\"Parasect\",\"Wormadam\",\"Sewaddle\",\"Swadloon\",\"Leavanny\"],\"type1\":[\"bug\",\"bug\",\"bug\",\"bug\",\"bug\",\"bug\"],\"type2\":[\"grass\",\"grass\",\"grass\",\"grass\",\"grass\",\"grass\"],\"weight_kg\":{\"__ndarray__\":\"mpmZmZmZFUAAAAAAAIA9QAAAAAAAABpAAAAAAAAABEAzMzMzMzMdQAAAAAAAgDRA\",\"dtype\":\"float64\",\"order\":\"little\",\"shape\":[6]}},\"selected\":{\"id\":\"1224\"},\"selection_policy\":{\"id\":\"1238\"}},\"id\":\"1223\",\"type\":\"ColumnDataSource\"},{\"attributes\":{\"end\":336.5628571428571,\"reset_end\":336.5628571428571,\"reset_start\":-26.46285714285714,\"start\":-26.46285714285714,\"tags\":[[[\"weight_kg\",\"weight_kg\",null]]]},\"id\":\"1176\",\"type\":\"Range1d\"},{\"attributes\":{\"angle\":{\"value\":0.0},\"fill_alpha\":{\"value\":1.0},\"fill_color\":{\"value\":\"#9467bd\"},\"hatch_alpha\":{\"value\":1.0},\"hatch_color\":{\"value\":\"#9467bd\"},\"hatch_scale\":{\"value\":12.0},\"hatch_weight\":{\"value\":1.0},\"line_alpha\":{\"value\":1.0},\"line_cap\":{\"value\":\"butt\"},\"line_color\":{\"value\":\"#9467bd\"},\"line_dash\":{\"value\":[]},\"line_dash_offset\":{\"value\":0},\"line_join\":{\"value\":\"bevel\"},\"line_width\":{\"value\":1},\"marker\":{\"value\":\"circle\"},\"size\":{\"value\":5.477225575051661},\"x\":{\"field\":\"weight_kg\"},\"y\":{\"field\":\"height_m\"}},\"id\":\"1405\",\"type\":\"Scatter\"},{\"attributes\":{},\"id\":\"1311\",\"type\":\"UnionRenderers\"},{\"attributes\":{},\"id\":\"1375\",\"type\":\"Selection\"},{\"attributes\":{\"fill_alpha\":{\"value\":0.2},\"fill_color\":{\"value\":\"#30a2da\"},\"hatch_alpha\":{\"value\":0.2},\"hatch_color\":{\"value\":\"#30a2da\"},\"line_alpha\":{\"value\":0.2},\"line_color\":{\"value\":\"#30a2da\"},\"size\":{\"value\":5.477225575051661},\"x\":{\"field\":\"weight_kg\"},\"y\":{\"field\":\"height_m\"}},\"id\":\"1228\",\"type\":\"Scatter\"},{\"attributes\":{\"source\":{\"id\":\"1316\"}},\"id\":\"1323\",\"type\":\"CDSView\"},{\"attributes\":{\"fill_alpha\":{\"value\":0.2},\"fill_color\":{\"value\":\"#8b8b8b\"},\"hatch_alpha\":{\"value\":0.2},\"hatch_color\":{\"value\":\"#8b8b8b\"},\"line_alpha\":{\"value\":0.2},\"line_color\":{\"value\":\"#8b8b8b\"},\"size\":{\"value\":5.477225575051661},\"x\":{\"field\":\"weight_kg\"},\"y\":{\"field\":\"height_m\"}},\"id\":\"1321\",\"type\":\"Scatter\"},{\"attributes\":{\"angle\":{\"value\":0.0},\"fill_alpha\":{\"value\":1.0},\"fill_color\":{\"value\":\"#fc4f30\"},\"hatch_alpha\":{\"value\":1.0},\"hatch_color\":{\"value\":\"#fc4f30\"},\"hatch_scale\":{\"value\":12.0},\"hatch_weight\":{\"value\":1.0},\"line_alpha\":{\"value\":1.0},\"line_cap\":{\"value\":\"butt\"},\"line_color\":{\"value\":\"#fc4f30\"},\"line_dash\":{\"value\":[]},\"line_dash_offset\":{\"value\":0},\"line_join\":{\"value\":\"bevel\"},\"line_width\":{\"value\":1},\"marker\":{\"value\":\"circle\"},\"size\":{\"value\":5.477225575051661},\"x\":{\"field\":\"weight_kg\"},\"y\":{\"field\":\"height_m\"}},\"id\":\"1265\",\"type\":\"Scatter\"},{\"attributes\":{\"data\":{\"height_m\":{\"__ndarray__\":\"MzMzMzMz4z9mZmZmZmb+Pw==\",\"dtype\":\"float64\",\"order\":\"little\",\"shape\":[2]},\"name\":[\"Deerling\",\"Sawsbuck\"],\"type1\":[\"normal\",\"normal\"],\"type2\":[\"grass\",\"grass\"],\"weight_kg\":{\"__ndarray__\":\"AAAAAACAM0AAAAAAACBXQA==\",\"dtype\":\"float64\",\"order\":\"little\",\"shape\":[2]}},\"selected\":{\"id\":\"1291\"},\"selection_policy\":{\"id\":\"1311\"}},\"id\":\"1290\",\"type\":\"ColumnDataSource\"},{\"attributes\":{\"label\":{\"value\":\"bug\"},\"renderers\":[{\"id\":\"1229\"}]},\"id\":\"1242\",\"type\":\"LegendItem\"},{\"attributes\":{},\"id\":\"1224\",\"type\":\"Selection\"},{\"attributes\":{\"data\":{\"height_m\":{\"__ndarray__\":\"mpmZmZmZ2T8AAAAAAAD4P5qZmZmZmek/MzMzMzMz+z8zMzMzMzMPQA==\",\"dtype\":\"float64\",\"order\":\"little\",\"shape\":[5]},\"name\":[\"Phantump\",\"Trevenant\",\"Pumpkaboo\",\"Gourgeist\",\"Dhelmise\"],\"type1\":[\"ghost\",\"ghost\",\"ghost\",\"ghost\",\"ghost\"],\"type2\":[\"grass\",\"grass\",\"grass\",\"grass\",\"grass\"],\"weight_kg\":{\"__ndarray__\":\"AAAAAAAAHEAAAAAAAMBRQAAAAAAAAC5AAAAAAACAQ0AAAAAAAEBqQA==\",\"dtype\":\"float64\",\"order\":\"little\",\"shape\":[5]}},\"selected\":{\"id\":\"1245\"},\"selection_policy\":{\"id\":\"1261\"}},\"id\":\"1244\",\"type\":\"ColumnDataSource\"},{\"attributes\":{\"margin\":[5,10,5,10],\"options\":[\"grass\",\"fire\",\"water\",\"bug\",\"normal\",\"poison\",\"electric\",\"ground\",\"fairy\",\"fighting\",\"psychic\",\"rock\",\"ghost\",\"ice\",\"dragon\",\"dark\",\"steel\",\"flying\"],\"title\":\"Type\",\"value\":\"grass\"},\"id\":\"1173\",\"type\":\"Select\"},{\"attributes\":{\"coordinates\":null,\"data_source\":{\"id\":\"1266\"},\"glyph\":{\"id\":\"1269\"},\"group\":null,\"hover_glyph\":null,\"muted_glyph\":{\"id\":\"1271\"},\"nonselection_glyph\":{\"id\":\"1270\"},\"selection_glyph\":{\"id\":\"1289\"},\"view\":{\"id\":\"1273\"}},\"id\":\"1272\",\"type\":\"GlyphRenderer\"},{\"attributes\":{\"margin\":[5,5,5,5],\"name\":\"HSpacer02825\",\"sizing_mode\":\"stretch_width\"},\"id\":\"1174\",\"type\":\"Spacer\"},{\"attributes\":{\"fill_color\":{\"value\":\"#fc4f30\"},\"hatch_color\":{\"value\":\"#fc4f30\"},\"line_color\":{\"value\":\"#fc4f30\"},\"size\":{\"value\":5.477225575051661},\"x\":{\"field\":\"weight_kg\"},\"y\":{\"field\":\"height_m\"}},\"id\":\"1247\",\"type\":\"Scatter\"},{\"attributes\":{},\"id\":\"1291\",\"type\":\"Selection\"},{\"attributes\":{\"children\":[{\"id\":\"1173\"}],\"margin\":[0,0,0,0],\"name\":\"Column02517\"},\"id\":\"1172\",\"type\":\"Column\"},{\"attributes\":{\"source\":{\"id\":\"1290\"}},\"id\":\"1297\",\"type\":\"CDSView\"},{\"attributes\":{\"label\":{\"value\":\"normal\"},\"renderers\":[{\"id\":\"1296\"}]},\"id\":\"1314\",\"type\":\"LegendItem\"},{\"attributes\":{},\"id\":\"1317\",\"type\":\"Selection\"},{\"attributes\":{\"angle\":{\"value\":0.0},\"fill_alpha\":{\"value\":1.0},\"fill_color\":{\"value\":\"#30a2da\"},\"hatch_alpha\":{\"value\":1.0},\"hatch_color\":{\"value\":\"#30a2da\"},\"hatch_scale\":{\"value\":12.0},\"hatch_weight\":{\"value\":1.0},\"line_alpha\":{\"value\":1.0},\"line_cap\":{\"value\":\"butt\"},\"line_color\":{\"value\":\"#30a2da\"},\"line_dash\":{\"value\":[]},\"line_dash_offset\":{\"value\":0},\"line_join\":{\"value\":\"bevel\"},\"line_width\":{\"value\":1},\"marker\":{\"value\":\"circle\"},\"size\":{\"value\":5.477225575051661},\"x\":{\"field\":\"weight_kg\"},\"y\":{\"field\":\"height_m\"}},\"id\":\"1243\",\"type\":\"Scatter\"},{\"attributes\":{\"fill_color\":{\"value\":\"#6d904f\"},\"hatch_color\":{\"value\":\"#6d904f\"},\"line_color\":{\"value\":\"#6d904f\"},\"size\":{\"value\":5.477225575051661},\"x\":{\"field\":\"weight_kg\"},\"y\":{\"field\":\"height_m\"}},\"id\":\"1293\",\"type\":\"Scatter\"},{\"attributes\":{\"fill_alpha\":{\"value\":0.2},\"fill_color\":{\"value\":\"#6d904f\"},\"hatch_alpha\":{\"value\":0.2},\"hatch_color\":{\"value\":\"#6d904f\"},\"line_alpha\":{\"value\":0.2},\"line_color\":{\"value\":\"#6d904f\"},\"size\":{\"value\":5.477225575051661},\"x\":{\"field\":\"weight_kg\"},\"y\":{\"field\":\"height_m\"}},\"id\":\"1295\",\"type\":\"Scatter\"},{\"attributes\":{\"data\":{\"height_m\":{\"__ndarray__\":\"ZmZmZmZm5j8AAAAAAADwPwAAAAAAAABAAAAAAAAA4D+amZmZmZnpPzMzMzMzM/M/ZmZmZmZm5j8AAAAAAADwPzMzMzMzM/s/mpmZmZmZ2T8AAAAAAAD4fwAAAAAAAPA/zczMzMzM7D8zMzMzMzPzP83MzMzMzPw/mpmZmZmZ2T+amZmZmZnZPzMzMzMzM+M/mpmZmZmZ6T8zMzMzMzPTP5qZmZmZmek/AAAAAAAA4D/NzMzMzMzsPzMzMzMzM/s/AAAAAAAA4D8AAAAAAADwP83MzMzMzPQ/mpmZmZmZ2T8zMzMzMzPzPzMzMzMzM9M/mpmZmZmZ2T/NzMzMzMz0PwAAAAAAAABAmpmZmZmZ2T+amZmZmZnxP5qZmZmZmQFAmpmZmZmZyT/NzMzMzMzsP5qZmZmZmdk/AAAAAAAA4D9mZmZmZmb2PwAAAAAAAPA/mpmZmZmZAUAAAAAAAAAAQAAAAAAAAPA/mpmZmZmZyT8zMzMzMzPjP5qZmZmZmek/ZmZmZmZmCkAzMzMzMzPjP5qZmZmZmfE/MzMzMzMz0z9mZmZmZmbmPwAAAAAAAOA/mpmZmZmZ8T8AAAAAAADwP5qZmZmZmck/MzMzMzMz4z8zMzMzMzPjPwAAAAAAAPA/AAAAAAAAAECamZmZmZnZP2ZmZmZmZuY/mpmZmZmZ+T/NzMzMzMzsPzMzMzMzM/s/MzMzMzMz0z9mZmZmZmbmP5qZmZmZmfk/MzMzMzMz0z/NzMzMzMzsP5qZmZmZmck/AAAAAAAA8D8zMzMzMzPTP2ZmZmZmZuY/MzMzMzMz8z9mZmZmZmb+PzMzMzMzM9M/\",\"dtype\":\"float64\",\"order\":\"little\",\"shape\":[78]},\"name\":[\"Bulbasaur\",\"Ivysaur\",\"Venusaur\",\"Oddish\",\"Gloom\",\"Vileplume\",\"Bellsprout\",\"Weepinbell\",\"Victreebel\",\"Exeggcute\",\"Exeggutor\",\"Tangela\",\"Chikorita\",\"Bayleef\",\"Meganium\",\"Bellossom\",\"Hoppip\",\"Skiploom\",\"Jumpluff\",\"Sunkern\",\"Sunflora\",\"Treecko\",\"Grovyle\",\"Sceptile\",\"Seedot\",\"Nuzleaf\",\"Shiftry\",\"Shroomish\",\"Breloom\",\"Roselia\",\"Cacnea\",\"Cacturne\",\"Tropius\",\"Turtwig\",\"Grotle\",\"Torterra\",\"Budew\",\"Roserade\",\"Cherubi\",\"Cherrim\",\"Carnivine\",\"Snover\",\"Abomasnow\",\"Tangrowth\",\"Leafeon\",\"Shaymin\",\"Snivy\",\"Servine\",\"Serperior\",\"Pansage\",\"Simisage\",\"Cottonee\",\"Whimsicott\",\"Petilil\",\"Lilligant\",\"Maractus\",\"Foongus\",\"Amoonguss\",\"Ferroseed\",\"Ferrothorn\",\"Virizion\",\"Chespin\",\"Quilladin\",\"Chesnaught\",\"Skiddo\",\"Gogoat\",\"Rowlet\",\"Dartrix\",\"Decidueye\",\"Fomantis\",\"Lurantis\",\"Morelull\",\"Shiinotic\",\"Bounsweet\",\"Steenee\",\"Tsareena\",\"Tapu Bulu\",\"Kartana\"],\"type1\":[\"grass\",\"grass\",\"grass\",\"grass\",\"grass\",\"grass\",\"grass\",\"grass\",\"grass\",\"grass\",\"grass\",\"grass\",\"grass\",\"grass\",\"grass\",\"grass\",\"grass\",\"grass\",\"grass\",\"grass\",\"grass\",\"grass\",\"grass\",\"grass\",\"grass\",\"grass\",\"grass\",\"grass\",\"grass\",\"grass\",\"grass\",\"grass\",\"grass\",\"grass\",\"grass\",\"grass\",\"grass\",\"grass\",\"grass\",\"grass\",\"grass\",\"grass\",\"grass\",\"grass\",\"grass\",\"grass\",\"grass\",\"grass\",\"grass\",\"grass\",\"grass\",\"grass\",\"grass\",\"grass\",\"grass\",\"grass\",\"grass\",\"grass\",\"grass\",\"grass\",\"grass\",\"grass\",\"grass\",\"grass\",\"grass\",\"grass\",\"grass\",\"grass\",\"grass\",\"grass\",\"grass\",\"grass\",\"grass\",\"grass\",\"grass\",\"grass\",\"grass\",\"grass\"],\"type2\":[\"poison\",\"poison\",\"poison\",\"poison\",\"poison\",\"poison\",\"poison\",\"poison\",\"poison\",\"psychic\",\"psychic\",\"nan\",\"nan\",\"nan\",\"nan\",\"nan\",\"flying\",\"flying\",\"flying\",\"nan\",\"nan\",\"nan\",\"nan\",\"nan\",\"nan\",\"dark\",\"dark\",\"nan\",\"fighting\",\"poison\",\"nan\",\"dark\",\"flying\",\"nan\",\"nan\",\"ground\",\"poison\",\"poison\",\"nan\",\"nan\",\"nan\",\"ice\",\"ice\",\"nan\",\"nan\",\"grass\",\"nan\",\"nan\",\"nan\",\"nan\",\"nan\",\"fairy\",\"fairy\",\"nan\",\"nan\",\"nan\",\"poison\",\"poison\",\"steel\",\"steel\",\"fighting\",\"nan\",\"nan\",\"fighting\",\"nan\",\"nan\",\"flying\",\"flying\",\"ghost\",\"nan\",\"nan\",\"fairy\",\"fairy\",\"nan\",\"nan\",\"nan\",\"fairy\",\"steel\"],\"weight_kg\":{\"__ndarray__\":\"mpmZmZmZG0AAAAAAAAAqQAAAAAAAAFlAmpmZmZmZFUAzMzMzMzMhQJqZmZmZmTJAAAAAAAAAEECamZmZmZkZQAAAAAAAAC9AAAAAAAAABEAAAAAAAAD4fwAAAAAAgEFAmpmZmZmZGUCamZmZmZkvQAAAAAAAIFlAMzMzMzMzF0AAAAAAAADgPwAAAAAAAPA/AAAAAAAACEDNzMzMzMz8PwAAAAAAACFAAAAAAAAAFECamZmZmZk1QJqZmZmZGUpAAAAAAAAAEEAAAAAAAAA8QM3MzMzMzE1AAAAAAAAAEkCamZmZmZlDQAAAAAAAAABAZmZmZmamSUCamZmZmVlTQAAAAAAAAFlAZmZmZmZmJEAAAAAAAEBYQAAAAAAAYHNAMzMzMzMz8z8AAAAAAAAtQGZmZmZmZgpAmpmZmZmZIkAAAAAAAAA7QAAAAAAAQElAAAAAAADwYEAzMzMzMxNgQAAAAAAAgDlAzczMzMzMAEAzMzMzMzMgQAAAAAAAADBAAAAAAACAT0AAAAAAAAAlQAAAAAAAgD5AMzMzMzMz4z9mZmZmZmYaQGZmZmZmZhpAzczMzMxMMEAAAAAAAAA8QAAAAAAAAPA/AAAAAAAAJUDNzMzMzMwyQAAAAAAAgFtAAAAAAAAAaUAAAAAAAAAiQAAAAAAAAD1AAAAAAACAVkAAAAAAAAA/QAAAAAAAwFZAAAAAAAAA+D8AAAAAAAAwQM3MzMzMTEJAAAAAAAAA+D8AAAAAAIAyQAAAAAAAAPg/AAAAAAAAJ0CamZmZmZkJQGZmZmZmZiBAZmZmZmZmNUAAAAAAAMBGQJqZmZmZmbk/\",\"dtype\":\"float64\",\"order\":\"little\",\"shape\":[78]}},\"selected\":{\"id\":\"1267\"},\"selection_policy\":{\"id\":\"1285\"}},\"id\":\"1266\",\"type\":\"ColumnDataSource\"},{\"attributes\":{\"angle\":{\"value\":0.0},\"fill_alpha\":{\"value\":1.0},\"fill_color\":{\"value\":\"#17becf\"},\"hatch_alpha\":{\"value\":1.0},\"hatch_color\":{\"value\":\"#17becf\"},\"hatch_scale\":{\"value\":12.0},\"hatch_weight\":{\"value\":1.0},\"line_alpha\":{\"value\":1.0},\"line_cap\":{\"value\":\"butt\"},\"line_color\":{\"value\":\"#17becf\"},\"line_dash\":{\"value\":[]},\"line_dash_offset\":{\"value\":0},\"line_join\":{\"value\":\"bevel\"},\"line_width\":{\"value\":1},\"marker\":{\"value\":\"circle\"},\"size\":{\"value\":5.477225575051661},\"x\":{\"field\":\"weight_kg\"},\"y\":{\"field\":\"height_m\"}},\"id\":\"1373\",\"type\":\"Scatter\"},{\"attributes\":{\"label\":{\"value\":\"grass\"},\"renderers\":[{\"id\":\"1272\"}]},\"id\":\"1288\",\"type\":\"LegendItem\"},{\"attributes\":{\"client_comm_id\":\"fbd7dacc2c19481aa34d17bb8be2af3d\",\"comm_id\":\"c2204c220799497998ceceb97ed72fc6\",\"plot_id\":\"1169\"},\"id\":\"1670\",\"type\":\"panel.models.comm_manager.CommManager\"},{\"attributes\":{\"coordinates\":null,\"data_source\":{\"id\":\"1244\"},\"glyph\":{\"id\":\"1247\"},\"group\":null,\"hover_glyph\":null,\"muted_glyph\":{\"id\":\"1249\"},\"nonselection_glyph\":{\"id\":\"1248\"},\"selection_glyph\":{\"id\":\"1265\"},\"view\":{\"id\":\"1251\"}},\"id\":\"1250\",\"type\":\"GlyphRenderer\"},{\"attributes\":{\"fill_color\":{\"value\":\"#30a2da\"},\"hatch_color\":{\"value\":\"#30a2da\"},\"line_color\":{\"value\":\"#30a2da\"},\"size\":{\"value\":5.477225575051661},\"x\":{\"field\":\"weight_kg\"},\"y\":{\"field\":\"height_m\"}},\"id\":\"1226\",\"type\":\"Scatter\"},{\"attributes\":{\"coordinates\":null,\"group\":null,\"text\":\"Relationship between Weight (kg) and Height (m), by Type\",\"text_color\":\"black\",\"text_font_size\":\"12pt\"},\"id\":\"1186\",\"type\":\"Title\"},{\"attributes\":{\"fill_alpha\":{\"value\":0.2},\"fill_color\":{\"value\":\"#fc4f30\"},\"hatch_alpha\":{\"value\":0.2},\"hatch_color\":{\"value\":\"#fc4f30\"},\"line_alpha\":{\"value\":0.2},\"line_color\":{\"value\":\"#fc4f30\"},\"size\":{\"value\":5.477225575051661},\"x\":{\"field\":\"weight_kg\"},\"y\":{\"field\":\"height_m\"}},\"id\":\"1249\",\"type\":\"Scatter\"},{\"attributes\":{\"source\":{\"id\":\"1266\"}},\"id\":\"1273\",\"type\":\"CDSView\"},{\"attributes\":{\"source\":{\"id\":\"1374\"}},\"id\":\"1381\",\"type\":\"CDSView\"},{\"attributes\":{\"below\":[{\"id\":\"1194\"}],\"center\":[{\"id\":\"1197\"},{\"id\":\"1201\"}],\"left\":[{\"id\":\"1198\"}],\"margin\":[5,5,5,5],\"min_border_bottom\":10,\"min_border_left\":10,\"min_border_right\":10,\"min_border_top\":10,\"renderers\":[{\"id\":\"1229\"},{\"id\":\"1250\"},{\"id\":\"1272\"},{\"id\":\"1296\"},{\"id\":\"1322\"},{\"id\":\"1350\"},{\"id\":\"1380\"}],\"right\":[{\"id\":\"1241\"}],\"sizing_mode\":\"fixed\",\"title\":{\"id\":\"1186\"},\"toolbar\":{\"id\":\"1208\"},\"width\":700,\"x_range\":{\"id\":\"1176\"},\"x_scale\":{\"id\":\"1190\"},\"y_range\":{\"id\":\"1177\"},\"y_scale\":{\"id\":\"1192\"}},\"id\":\"1185\",\"subtype\":\"Figure\",\"type\":\"Plot\"},{\"attributes\":{},\"id\":\"1203\",\"type\":\"PanTool\"},{\"attributes\":{\"data\":{\"height_m\":{\"__ndarray__\":\"AAAAAAAA4D8zMzMzMzPzPwAAAAAAAPg/\",\"dtype\":\"float64\",\"order\":\"little\",\"shape\":[3]},\"name\":[\"Lotad\",\"Lombre\",\"Ludicolo\"],\"type1\":[\"water\",\"water\",\"water\"],\"type2\":[\"grass\",\"grass\",\"grass\"],\"weight_kg\":{\"__ndarray__\":\"zczMzMzMBEAAAAAAAEBAQAAAAAAAgEtA\",\"dtype\":\"float64\",\"order\":\"little\",\"shape\":[3]}},\"selected\":{\"id\":\"1375\"},\"selection_policy\":{\"id\":\"1401\"}},\"id\":\"1374\",\"type\":\"ColumnDataSource\"},{\"attributes\":{\"fill_alpha\":{\"value\":0.1},\"fill_color\":{\"value\":\"#9467bd\"},\"hatch_alpha\":{\"value\":0.1},\"hatch_color\":{\"value\":\"#9467bd\"},\"line_alpha\":{\"value\":0.1},\"line_color\":{\"value\":\"#9467bd\"},\"size\":{\"value\":5.477225575051661},\"x\":{\"field\":\"weight_kg\"},\"y\":{\"field\":\"height_m\"}},\"id\":\"1378\",\"type\":\"Scatter\"},{\"attributes\":{\"axis_label\":\"weight_kg\",\"coordinates\":null,\"formatter\":{\"id\":\"1216\"},\"group\":null,\"major_label_policy\":{\"id\":\"1217\"},\"ticker\":{\"id\":\"1195\"}},\"id\":\"1194\",\"type\":\"LinearAxis\"},{\"attributes\":{\"axis\":{\"id\":\"1194\"},\"coordinates\":null,\"group\":null,\"ticker\":{\"id\":\"1195\"}},\"id\":\"1197\",\"type\":\"Grid\"},{\"attributes\":{\"fill_alpha\":{\"value\":0.1},\"fill_color\":{\"value\":\"#fc4f30\"},\"hatch_alpha\":{\"value\":0.1},\"hatch_color\":{\"value\":\"#fc4f30\"},\"line_alpha\":{\"value\":0.1},\"line_color\":{\"value\":\"#fc4f30\"},\"size\":{\"value\":5.477225575051661},\"x\":{\"field\":\"weight_kg\"},\"y\":{\"field\":\"height_m\"}},\"id\":\"1248\",\"type\":\"Scatter\"},{\"attributes\":{\"axis\":{\"id\":\"1198\"},\"coordinates\":null,\"dimension\":1,\"group\":null,\"ticker\":{\"id\":\"1199\"}},\"id\":\"1201\",\"type\":\"Grid\"},{\"attributes\":{},\"id\":\"1192\",\"type\":\"LinearScale\"},{\"attributes\":{\"angle\":{\"value\":0.0},\"fill_alpha\":{\"value\":1.0},\"fill_color\":{\"value\":\"#8b8b8b\"},\"hatch_alpha\":{\"value\":1.0},\"hatch_color\":{\"value\":\"#8b8b8b\"},\"hatch_scale\":{\"value\":12.0},\"hatch_weight\":{\"value\":1.0},\"line_alpha\":{\"value\":1.0},\"line_cap\":{\"value\":\"butt\"},\"line_color\":{\"value\":\"#8b8b8b\"},\"line_dash\":{\"value\":[]},\"line_dash_offset\":{\"value\":0},\"line_join\":{\"value\":\"bevel\"},\"line_width\":{\"value\":1},\"marker\":{\"value\":\"circle\"},\"size\":{\"value\":5.477225575051661},\"x\":{\"field\":\"weight_kg\"},\"y\":{\"field\":\"height_m\"}},\"id\":\"1343\",\"type\":\"Scatter\"},{\"attributes\":{},\"id\":\"1285\",\"type\":\"UnionRenderers\"},{\"attributes\":{},\"id\":\"1195\",\"type\":\"BasicTicker\"},{\"attributes\":{\"coordinates\":null,\"data_source\":{\"id\":\"1223\"},\"glyph\":{\"id\":\"1226\"},\"group\":null,\"hover_glyph\":null,\"muted_glyph\":{\"id\":\"1228\"},\"nonselection_glyph\":{\"id\":\"1227\"},\"selection_glyph\":{\"id\":\"1243\"},\"view\":{\"id\":\"1230\"}},\"id\":\"1229\",\"type\":\"GlyphRenderer\"},{\"attributes\":{\"fill_color\":{\"value\":\"#e5ae38\"},\"hatch_color\":{\"value\":\"#e5ae38\"},\"line_color\":{\"value\":\"#e5ae38\"},\"size\":{\"value\":5.477225575051661},\"x\":{\"field\":\"weight_kg\"},\"y\":{\"field\":\"height_m\"}},\"id\":\"1269\",\"type\":\"Scatter\"},{\"attributes\":{\"coordinates\":null,\"data_source\":{\"id\":\"1374\"},\"glyph\":{\"id\":\"1377\"},\"group\":null,\"hover_glyph\":null,\"muted_glyph\":{\"id\":\"1379\"},\"nonselection_glyph\":{\"id\":\"1378\"},\"selection_glyph\":{\"id\":\"1405\"},\"view\":{\"id\":\"1381\"}},\"id\":\"1380\",\"type\":\"GlyphRenderer\"},{\"attributes\":{\"fill_alpha\":{\"value\":0.2},\"fill_color\":{\"value\":\"#e5ae38\"},\"hatch_alpha\":{\"value\":0.2},\"hatch_color\":{\"value\":\"#e5ae38\"},\"line_alpha\":{\"value\":0.2},\"line_color\":{\"value\":\"#e5ae38\"},\"size\":{\"value\":5.477225575051661},\"x\":{\"field\":\"weight_kg\"},\"y\":{\"field\":\"height_m\"}},\"id\":\"1271\",\"type\":\"Scatter\"},{\"attributes\":{\"axis_label\":\"height_m\",\"coordinates\":null,\"formatter\":{\"id\":\"1219\"},\"group\":null,\"major_label_policy\":{\"id\":\"1220\"},\"ticker\":{\"id\":\"1199\"}},\"id\":\"1198\",\"type\":\"LinearAxis\"},{\"attributes\":{},\"id\":\"1199\",\"type\":\"BasicTicker\"},{\"attributes\":{},\"id\":\"1204\",\"type\":\"WheelZoomTool\"},{\"attributes\":{},\"id\":\"1206\",\"type\":\"ResetTool\"},{\"attributes\":{},\"id\":\"1245\",\"type\":\"Selection\"},{\"attributes\":{\"tools\":[{\"id\":\"1178\"},{\"id\":\"1202\"},{\"id\":\"1203\"},{\"id\":\"1204\"},{\"id\":\"1205\"},{\"id\":\"1206\"}]},\"id\":\"1208\",\"type\":\"Toolbar\"},{\"attributes\":{\"source\":{\"id\":\"1223\"}},\"id\":\"1230\",\"type\":\"CDSView\"}],\"root_ids\":[\"1169\",\"1670\"]},\"title\":\"Bokeh Application\",\"version\":\"2.4.1\"}};\n",
       "    var render_items = [{\"docid\":\"d720cf59-f976-4ac8-9135-6f2dda6e86be\",\"root_ids\":[\"1169\"],\"roots\":{\"1169\":\"57c112f1-44d5-492b-a109-588d642e04dd\"}}];\n",
       "    root.Bokeh.embed.embed_items_notebook(docs_json, render_items);\n",
       "  }\n",
       "  if (root.Bokeh !== undefined && root.Bokeh.Panel !== undefined) {\n",
       "    embed_document(root);\n",
       "  } else {\n",
       "    var attempts = 0;\n",
       "    var timer = setInterval(function(root) {\n",
       "      if (root.Bokeh !== undefined && root.Bokeh.Panel !== undefined) {\n",
       "        clearInterval(timer);\n",
       "        embed_document(root);\n",
       "      } else if (document.readyState == \"complete\") {\n",
       "        attempts++;\n",
       "        if (attempts > 200) {\n",
       "          clearInterval(timer);\n",
       "          console.log(\"Bokeh: ERROR: Unable to run BokehJS code because BokehJS library is missing\");\n",
       "        }\n",
       "      }\n",
       "    }, 25, root)\n",
       "  }\n",
       "})(window);</script>"
      ],
      "text/plain": [
       "<hvplot.interactive.Interactive at 0x25548c4f6d0>"
      ]
     },
     "execution_count": 6,
     "metadata": {
      "application/vnd.holoviews_exec.v0+json": {
       "id": "1169"
      }
     },
     "output_type": "execute_result"
    }
   ],
   "source": [
    "# Plot \n",
    "viz1 = data_pipeline.hvplot(x='weight_kg', y='height_m', \n",
    "                     by='type1', \n",
    "                     kind='scatter', \n",
    "                     hover_cols=['name', 'type1', 'type2'], \n",
    "                     title='Relationship between Weight (kg) and Height (m), by Type',\n",
    "                     width=700, height=600,\n",
    "                     grid=True,\n",
    "                    )\n",
    "viz1"
   ]
  },
  {
   "cell_type": "markdown",
   "id": "128352c6-2720-4c37-8f84-7289b81c1f06",
   "metadata": {},
   "source": [
    "## VIZ 2 - Violin: Stats"
   ]
  },
  {
   "cell_type": "code",
   "execution_count": 40,
   "id": "0af7e363-e8f1-4932-a913-2ba6821c59cd",
   "metadata": {},
   "outputs": [
    {
     "data": {},
     "metadata": {},
     "output_type": "display_data"
    },
    {
     "data": {},
     "metadata": {},
     "output_type": "display_data"
    },
    {
     "data": {
      "application/vnd.holoviews_exec.v0+json": "",
      "text/html": [
       "<div id='4339'>\n",
       "\n",
       "\n",
       "\n",
       "\n",
       "\n",
       "  <div class=\"bk-root\" id=\"bf89f403-f60a-422b-9f51-b332b36b50a3\" data-root-id=\"4339\"></div>\n",
       "</div>\n",
       "<script type=\"application/javascript\">(function(root) {\n",
       "  function embed_document(root) {\n",
       "    var docs_json = {\"91b3f10b-2dbe-477c-9e3e-71d74f6de4bb\":{\"defs\":[{\"extends\":null,\"module\":null,\"name\":\"ReactiveHTML1\",\"overrides\":[],\"properties\":[]},{\"extends\":null,\"module\":null,\"name\":\"FlexBox1\",\"overrides\":[],\"properties\":[{\"default\":\"flex-start\",\"kind\":null,\"name\":\"align_content\"},{\"default\":\"flex-start\",\"kind\":null,\"name\":\"align_items\"},{\"default\":\"row\",\"kind\":null,\"name\":\"flex_direction\"},{\"default\":\"wrap\",\"kind\":null,\"name\":\"flex_wrap\"},{\"default\":\"flex-start\",\"kind\":null,\"name\":\"justify_content\"}]},{\"extends\":null,\"module\":null,\"name\":\"TemplateActions1\",\"overrides\":[],\"properties\":[{\"default\":0,\"kind\":null,\"name\":\"open_modal\"},{\"default\":0,\"kind\":null,\"name\":\"close_modal\"}]},{\"extends\":null,\"module\":null,\"name\":\"MaterialTemplateActions1\",\"overrides\":[],\"properties\":[{\"default\":0,\"kind\":null,\"name\":\"open_modal\"},{\"default\":0,\"kind\":null,\"name\":\"close_modal\"}]}],\"roots\":{\"references\":[{\"attributes\":{\"data\":{\"Variable\":[\"speed\",\"speed\",\"speed\",\"speed\",\"speed\",\"speed\",\"speed\",\"speed\",\"speed\",\"speed\",\"speed\",\"speed\",\"speed\",\"speed\",\"speed\",\"speed\",\"speed\",\"speed\",\"speed\",\"speed\",\"speed\",\"speed\",\"speed\",\"speed\",\"speed\",\"speed\",\"speed\",\"speed\",\"speed\",\"speed\",\"speed\",\"speed\",\"speed\",\"speed\",\"speed\",\"speed\",\"speed\",\"speed\",\"speed\",\"speed\",\"speed\",\"speed\",\"speed\",\"speed\",\"speed\",\"speed\",\"speed\",\"speed\",\"speed\",\"speed\",\"speed\",\"speed\",\"speed\",\"speed\",\"speed\",\"speed\",\"speed\",\"speed\",\"speed\",\"speed\",\"speed\",\"speed\",\"speed\",\"speed\",\"speed\",\"speed\",\"speed\",\"speed\",\"speed\",\"speed\",\"speed\",\"speed\",\"speed\",\"speed\",\"speed\",\"speed\",\"speed\",\"speed\"],\"index\":[0,1,2,42,43,44,68,69,70,101,102,113,151,152,153,181,186,187,188,190,191,251,252,253,272,273,274,284,285,314,330,331,356,386,387,388,405,406,419,420,454,458,459,464,469,491,494,495,496,510,511,545,546,547,548,555,589,590,596,597,639,649,650,651,671,672,721,722,723,752,753,754,755,760,761,762,786,797],\"value\":[45,60,80,30,40,50,40,55,70,40,45,60,45,60,80,50,50,80,110,30,30,70,95,145,30,60,80,35,70,65,35,55,51,31,36,56,55,90,35,85,46,40,30,50,95,127,63,83,113,64,101,66,116,30,90,60,15,30,10,20,108,38,57,64,52,68,42,52,70,35,45,15,30,32,62,72,75,109]},\"selected\":{\"id\":\"4483\"},\"selection_policy\":{\"id\":\"4505\"}},\"id\":\"4482\",\"type\":\"ColumnDataSource\"},{\"attributes\":{},\"id\":\"4433\",\"type\":\"Selection\"},{\"attributes\":{\"source\":{\"id\":\"4432\"}},\"id\":\"4439\",\"type\":\"CDSView\"},{\"attributes\":{},\"id\":\"4483\",\"type\":\"Selection\"},{\"attributes\":{\"line_color\":\"#e5ae38\",\"line_width\":2,\"x\":{\"field\":\"index\"},\"y\":{\"field\":\"value\"}},\"id\":\"4435\",\"type\":\"Line\"},{\"attributes\":{\"source\":{\"id\":\"4456\"}},\"id\":\"4463\",\"type\":\"CDSView\"},{\"attributes\":{\"coordinates\":null,\"data_source\":{\"id\":\"4432\"},\"glyph\":{\"id\":\"4435\"},\"group\":null,\"hover_glyph\":null,\"muted_glyph\":{\"id\":\"4437\"},\"nonselection_glyph\":{\"id\":\"4436\"},\"selection_glyph\":{\"id\":\"4455\"},\"view\":{\"id\":\"4439\"}},\"id\":\"4438\",\"type\":\"GlyphRenderer\"},{\"attributes\":{},\"id\":\"4387\",\"type\":\"BasicTickFormatter\"},{\"attributes\":{\"line_color\":\"#6d904f\",\"line_width\":2,\"x\":{\"field\":\"index\"},\"y\":{\"field\":\"value\"}},\"id\":\"4481\",\"type\":\"Line\"},{\"attributes\":{\"line_color\":\"#8b8b8b\",\"line_width\":2,\"x\":{\"field\":\"index\"},\"y\":{\"field\":\"value\"}},\"id\":\"4485\",\"type\":\"Line\"},{\"attributes\":{\"line_alpha\":0.1,\"line_color\":\"#e5ae38\",\"line_width\":2,\"x\":{\"field\":\"index\"},\"y\":{\"field\":\"value\"}},\"id\":\"4436\",\"type\":\"Line\"},{\"attributes\":{},\"id\":\"4388\",\"type\":\"AllLabels\"},{\"attributes\":{\"line_alpha\":0.2,\"line_color\":\"#e5ae38\",\"line_width\":2,\"x\":{\"field\":\"index\"},\"y\":{\"field\":\"value\"}},\"id\":\"4437\",\"type\":\"Line\"},{\"attributes\":{\"source\":{\"id\":\"4482\"}},\"id\":\"4489\",\"type\":\"CDSView\"},{\"attributes\":{\"line_color\":\"#6d904f\",\"line_width\":2,\"x\":{\"field\":\"index\"},\"y\":{\"field\":\"value\"}},\"id\":\"4459\",\"type\":\"Line\"},{\"attributes\":{},\"id\":\"4390\",\"type\":\"Selection\"},{\"attributes\":{\"label\":{\"value\":\"sp_attack\"},\"renderers\":[{\"id\":\"4438\"}]},\"id\":\"4454\",\"type\":\"LegendItem\"},{\"attributes\":{},\"id\":\"4451\",\"type\":\"UnionRenderers\"},{\"attributes\":{\"line_alpha\":0.1,\"line_color\":\"#8b8b8b\",\"line_width\":2,\"x\":{\"field\":\"index\"},\"y\":{\"field\":\"value\"}},\"id\":\"4486\",\"type\":\"Line\"},{\"attributes\":{\"source\":{\"id\":\"4389\"}},\"id\":\"4396\",\"type\":\"CDSView\"},{\"attributes\":{\"line_alpha\":0.2,\"line_color\":\"#30a2da\",\"line_width\":2,\"x\":{\"field\":\"index\"},\"y\":{\"field\":\"value\"}},\"id\":\"4394\",\"type\":\"Line\"},{\"attributes\":{\"end\":797.0,\"reset_end\":797.0,\"reset_start\":0.0,\"tags\":[[[\"index\",\"index\",null]]]},\"id\":\"4346\",\"type\":\"Range1d\"},{\"attributes\":{\"children\":[{\"id\":\"4341\"},{\"id\":\"4345\"}],\"margin\":[0,0,0,0],\"name\":\"Column13659\"},\"id\":\"4340\",\"type\":\"Column\"},{\"attributes\":{\"coordinates\":null,\"data_source\":{\"id\":\"4482\"},\"glyph\":{\"id\":\"4485\"},\"group\":null,\"hover_glyph\":null,\"muted_glyph\":{\"id\":\"4487\"},\"nonselection_glyph\":{\"id\":\"4486\"},\"selection_glyph\":{\"id\":\"4509\"},\"view\":{\"id\":\"4489\"}},\"id\":\"4488\",\"type\":\"GlyphRenderer\"},{\"attributes\":{\"coordinates\":null,\"data_source\":{\"id\":\"4389\"},\"glyph\":{\"id\":\"4392\"},\"group\":null,\"hover_glyph\":null,\"muted_glyph\":{\"id\":\"4394\"},\"nonselection_glyph\":{\"id\":\"4393\"},\"selection_glyph\":{\"id\":\"4409\"},\"view\":{\"id\":\"4396\"}},\"id\":\"4395\",\"type\":\"GlyphRenderer\"},{\"attributes\":{\"end\":198.1,\"reset_end\":198.1,\"reset_start\":-7.100000000000001,\"start\":-7.100000000000001,\"tags\":[[[\"value\",\"value\",null]]]},\"id\":\"4347\",\"type\":\"Range1d\"},{\"attributes\":{\"click_policy\":\"mute\",\"coordinates\":null,\"group\":null,\"items\":[{\"id\":\"4408\"},{\"id\":\"4430\"},{\"id\":\"4454\"},{\"id\":\"4480\"},{\"id\":\"4508\"}],\"location\":[0,0],\"title\":\"Variable\"},\"id\":\"4407\",\"type\":\"Legend\"},{\"attributes\":{},\"id\":\"4384\",\"type\":\"BasicTickFormatter\"},{\"attributes\":{},\"id\":\"4358\",\"type\":\"LinearScale\"},{\"attributes\":{\"line_alpha\":0.2,\"line_color\":\"#8b8b8b\",\"line_width\":2,\"x\":{\"field\":\"index\"},\"y\":{\"field\":\"value\"}},\"id\":\"4487\",\"type\":\"Line\"},{\"attributes\":{\"client_comm_id\":\"e0b17e4024a14f098cdf4afaa6cc6929\",\"comm_id\":\"f619c1ab43424062b82d91626be37e8a\",\"plot_id\":\"4339\"},\"id\":\"4726\",\"type\":\"panel.models.comm_manager.CommManager\"},{\"attributes\":{\"data\":{\"Variable\":[\"defense\",\"defense\",\"defense\",\"defense\",\"defense\",\"defense\",\"defense\",\"defense\",\"defense\",\"defense\",\"defense\",\"defense\",\"defense\",\"defense\",\"defense\",\"defense\",\"defense\",\"defense\",\"defense\",\"defense\",\"defense\",\"defense\",\"defense\",\"defense\",\"defense\",\"defense\",\"defense\",\"defense\",\"defense\",\"defense\",\"defense\",\"defense\",\"defense\",\"defense\",\"defense\",\"defense\",\"defense\",\"defense\",\"defense\",\"defense\",\"defense\",\"defense\",\"defense\",\"defense\",\"defense\",\"defense\",\"defense\",\"defense\",\"defense\",\"defense\",\"defense\",\"defense\",\"defense\",\"defense\",\"defense\",\"defense\",\"defense\",\"defense\",\"defense\",\"defense\",\"defense\",\"defense\",\"defense\",\"defense\",\"defense\",\"defense\",\"defense\",\"defense\",\"defense\",\"defense\",\"defense\",\"defense\",\"defense\",\"defense\",\"defense\",\"defense\",\"defense\",\"defense\"],\"index\":[0,1,2,42,43,44,68,69,70,101,102,113,151,152,153,181,186,187,188,190,191,251,252,253,272,273,274,284,285,314,330,331,356,386,387,388,405,406,419,420,454,458,459,464,469,491,494,495,496,510,511,545,546,547,548,555,589,590,596,597,639,649,650,651,671,672,721,722,723,752,753,754,755,760,761,762,786,797],\"value\":[49,63,123,55,70,85,35,50,65,80,85,115,65,80,100,95,40,50,70,30,55,35,45,75,50,40,60,60,80,45,40,60,83,64,85,105,35,65,45,70,72,50,105,125,130,75,55,75,95,48,63,60,85,50,75,67,45,70,91,131,72,65,95,122,48,62,55,75,75,35,90,55,80,38,48,98,115,131]},\"selected\":{\"id\":\"4411\"},\"selection_policy\":{\"id\":\"4427\"}},\"id\":\"4410\",\"type\":\"ColumnDataSource\"},{\"attributes\":{\"line_color\":\"#30a2da\",\"line_width\":2,\"x\":{\"field\":\"index\"},\"y\":{\"field\":\"value\"}},\"id\":\"4392\",\"type\":\"Line\"},{\"attributes\":{\"line_color\":\"#30a2da\",\"line_width\":2,\"x\":{\"field\":\"index\"},\"y\":{\"field\":\"value\"}},\"id\":\"4409\",\"type\":\"Line\"},{\"attributes\":{\"children\":[{\"id\":\"4342\"},{\"id\":\"4344\"}],\"margin\":[0,0,0,0],\"name\":\"Row13658\"},\"id\":\"4341\",\"type\":\"Row\"},{\"attributes\":{\"line_color\":\"#fc4f30\",\"line_width\":2,\"x\":{\"field\":\"index\"},\"y\":{\"field\":\"value\"}},\"id\":\"4413\",\"type\":\"Line\"},{\"attributes\":{\"label\":{\"value\":\"attack\"},\"renderers\":[{\"id\":\"4395\"}]},\"id\":\"4408\",\"type\":\"LegendItem\"},{\"attributes\":{\"label\":{\"value\":\"speed\"},\"renderers\":[{\"id\":\"4488\"}]},\"id\":\"4508\",\"type\":\"LegendItem\"},{\"attributes\":{\"callback\":null,\"renderers\":[{\"id\":\"4395\"},{\"id\":\"4416\"},{\"id\":\"4438\"},{\"id\":\"4462\"},{\"id\":\"4488\"}],\"tags\":[\"hv_created\"],\"tooltips\":[[\"Variable\",\"@{Variable}\"],[\"index\",\"@{index}\"],[\"value\",\"@{value}\"]]},\"id\":\"4348\",\"type\":\"HoverTool\"},{\"attributes\":{\"data\":{\"Variable\":[\"sp_attack\",\"sp_attack\",\"sp_attack\",\"sp_attack\",\"sp_attack\",\"sp_attack\",\"sp_attack\",\"sp_attack\",\"sp_attack\",\"sp_attack\",\"sp_attack\",\"sp_attack\",\"sp_attack\",\"sp_attack\",\"sp_attack\",\"sp_attack\",\"sp_attack\",\"sp_attack\",\"sp_attack\",\"sp_attack\",\"sp_attack\",\"sp_attack\",\"sp_attack\",\"sp_attack\",\"sp_attack\",\"sp_attack\",\"sp_attack\",\"sp_attack\",\"sp_attack\",\"sp_attack\",\"sp_attack\",\"sp_attack\",\"sp_attack\",\"sp_attack\",\"sp_attack\",\"sp_attack\",\"sp_attack\",\"sp_attack\",\"sp_attack\",\"sp_attack\",\"sp_attack\",\"sp_attack\",\"sp_attack\",\"sp_attack\",\"sp_attack\",\"sp_attack\",\"sp_attack\",\"sp_attack\",\"sp_attack\",\"sp_attack\",\"sp_attack\",\"sp_attack\",\"sp_attack\",\"sp_attack\",\"sp_attack\",\"sp_attack\",\"sp_attack\",\"sp_attack\",\"sp_attack\",\"sp_attack\",\"sp_attack\",\"sp_attack\",\"sp_attack\",\"sp_attack\",\"sp_attack\",\"sp_attack\",\"sp_attack\",\"sp_attack\",\"sp_attack\",\"sp_attack\",\"sp_attack\",\"sp_attack\",\"sp_attack\",\"sp_attack\",\"sp_attack\",\"sp_attack\",\"sp_attack\",\"sp_attack\"],\"index\":[0,1,2,42,43,44,68,69,70,101,102,113,151,152,153,181,186,187,188,190,191,251,252,253,272,273,274,284,285,314,330,331,356,386,387,388,405,406,419,420,454,458,459,464,469,491,494,495,496,510,511,545,546,547,548,555,589,590,596,597,639,649,650,651,671,672,721,722,723,752,753,754,755,760,761,762,786,797],\"value\":[65,80,122,75,85,110,70,85,100,60,125,100,49,63,83,90,35,45,55,30,105,65,85,145,30,60,90,40,60,100,85,115,72,45,55,75,50,125,62,87,90,62,132,110,60,120,45,60,75,53,98,37,77,70,110,106,55,85,24,54,90,48,56,74,62,97,50,70,100,50,80,65,90,30,40,50,85,59]},\"selected\":{\"id\":\"4433\"},\"selection_policy\":{\"id\":\"4451\"}},\"id\":\"4432\",\"type\":\"ColumnDataSource\"},{\"attributes\":{},\"id\":\"4505\",\"type\":\"UnionRenderers\"},{\"attributes\":{\"line_alpha\":0.1,\"line_color\":\"#30a2da\",\"line_width\":2,\"x\":{\"field\":\"index\"},\"y\":{\"field\":\"value\"}},\"id\":\"4393\",\"type\":\"Line\"},{\"attributes\":{\"below\":[{\"id\":\"4362\"}],\"center\":[{\"id\":\"4365\"},{\"id\":\"4369\"}],\"height\":300,\"left\":[{\"id\":\"4366\"}],\"margin\":[5,5,5,5],\"min_border_bottom\":10,\"min_border_left\":10,\"min_border_right\":10,\"min_border_top\":10,\"renderers\":[{\"id\":\"4395\"},{\"id\":\"4416\"},{\"id\":\"4438\"},{\"id\":\"4462\"},{\"id\":\"4488\"}],\"right\":[{\"id\":\"4407\"}],\"sizing_mode\":\"fixed\",\"title\":{\"id\":\"4354\"},\"toolbar\":{\"id\":\"4376\"},\"width\":700,\"x_range\":{\"id\":\"4346\"},\"x_scale\":{\"id\":\"4358\"},\"y_range\":{\"id\":\"4347\"},\"y_scale\":{\"id\":\"4360\"}},\"id\":\"4353\",\"subtype\":\"Figure\",\"type\":\"Plot\"},{\"attributes\":{\"data\":{\"Variable\":[\"sp_defense\",\"sp_defense\",\"sp_defense\",\"sp_defense\",\"sp_defense\",\"sp_defense\",\"sp_defense\",\"sp_defense\",\"sp_defense\",\"sp_defense\",\"sp_defense\",\"sp_defense\",\"sp_defense\",\"sp_defense\",\"sp_defense\",\"sp_defense\",\"sp_defense\",\"sp_defense\",\"sp_defense\",\"sp_defense\",\"sp_defense\",\"sp_defense\",\"sp_defense\",\"sp_defense\",\"sp_defense\",\"sp_defense\",\"sp_defense\",\"sp_defense\",\"sp_defense\",\"sp_defense\",\"sp_defense\",\"sp_defense\",\"sp_defense\",\"sp_defense\",\"sp_defense\",\"sp_defense\",\"sp_defense\",\"sp_defense\",\"sp_defense\",\"sp_defense\",\"sp_defense\",\"sp_defense\",\"sp_defense\",\"sp_defense\",\"sp_defense\",\"sp_defense\",\"sp_defense\",\"sp_defense\",\"sp_defense\",\"sp_defense\",\"sp_defense\",\"sp_defense\",\"sp_defense\",\"sp_defense\",\"sp_defense\",\"sp_defense\",\"sp_defense\",\"sp_defense\",\"sp_defense\",\"sp_defense\",\"sp_defense\",\"sp_defense\",\"sp_defense\",\"sp_defense\",\"sp_defense\",\"sp_defense\",\"sp_defense\",\"sp_defense\",\"sp_defense\",\"sp_defense\",\"sp_defense\",\"sp_defense\",\"sp_defense\",\"sp_defense\",\"sp_defense\",\"sp_defense\",\"sp_defense\",\"sp_defense\"],\"index\":[0,1,2,42,43,44,68,69,70,101,102,113,151,152,153,181,186,187,188,190,191,251,252,253,272,273,274,284,285,314,330,331,356,386,387,388,405,406,419,420,454,458,459,464,469,491,494,495,496,510,511,545,546,547,548,555,589,590,596,597,639,649,650,651,671,672,721,722,723,752,753,754,755,760,761,762,786,797],\"value\":[65,80,120,65,75,90,30,45,70,45,75,40,65,80,100,100,55,65,95,30,85,55,65,85,30,40,60,60,60,80,40,60,87,55,65,85,70,105,53,78,72,60,105,50,65,75,55,75,95,48,63,50,75,50,75,67,55,80,86,116,129,45,58,75,57,81,50,70,100,35,90,75,100,38,48,98,95,31]},\"selected\":{\"id\":\"4457\"},\"selection_policy\":{\"id\":\"4477\"}},\"id\":\"4456\",\"type\":\"ColumnDataSource\"},{\"attributes\":{\"source\":{\"id\":\"4410\"}},\"id\":\"4417\",\"type\":\"CDSView\"},{\"attributes\":{\"line_alpha\":0.1,\"line_color\":\"#fc4f30\",\"line_width\":2,\"x\":{\"field\":\"index\"},\"y\":{\"field\":\"value\"}},\"id\":\"4414\",\"type\":\"Line\"},{\"attributes\":{\"children\":[{\"id\":\"4340\"}],\"margin\":[0,0,0,0],\"name\":\"Row13660\"},\"id\":\"4339\",\"type\":\"Row\"},{\"attributes\":{\"coordinates\":null,\"data_source\":{\"id\":\"4410\"},\"glyph\":{\"id\":\"4413\"},\"group\":null,\"hover_glyph\":null,\"muted_glyph\":{\"id\":\"4415\"},\"nonselection_glyph\":{\"id\":\"4414\"},\"selection_glyph\":{\"id\":\"4431\"},\"view\":{\"id\":\"4417\"}},\"id\":\"4416\",\"type\":\"GlyphRenderer\"},{\"attributes\":{\"children\":[{\"id\":\"4343\"}],\"margin\":[0,0,0,0],\"name\":\"Column13427\"},\"id\":\"4342\",\"type\":\"Column\"},{\"attributes\":{},\"id\":\"4477\",\"type\":\"UnionRenderers\"},{\"attributes\":{\"coordinates\":null,\"group\":null,\"text\":\"AVG Stats per Type\",\"text_color\":\"black\",\"text_font_size\":\"12pt\"},\"id\":\"4354\",\"type\":\"Title\"},{\"attributes\":{},\"id\":\"4411\",\"type\":\"Selection\"},{\"attributes\":{\"line_alpha\":0.2,\"line_color\":\"#fc4f30\",\"line_width\":2,\"x\":{\"field\":\"index\"},\"y\":{\"field\":\"value\"}},\"id\":\"4415\",\"type\":\"Line\"},{\"attributes\":{},\"id\":\"4363\",\"type\":\"BasicTicker\"},{\"attributes\":{},\"id\":\"4371\",\"type\":\"PanTool\"},{\"attributes\":{\"label\":{\"value\":\"defense\"},\"renderers\":[{\"id\":\"4416\"}]},\"id\":\"4430\",\"type\":\"LegendItem\"},{\"attributes\":{\"axis_label\":\"\",\"coordinates\":null,\"formatter\":{\"id\":\"4384\"},\"group\":null,\"major_label_policy\":{\"id\":\"4385\"},\"ticker\":{\"id\":\"4363\"}},\"id\":\"4362\",\"type\":\"LinearAxis\"},{\"attributes\":{\"line_color\":\"#e5ae38\",\"line_width\":2,\"x\":{\"field\":\"index\"},\"y\":{\"field\":\"value\"}},\"id\":\"4455\",\"type\":\"Line\"},{\"attributes\":{\"axis\":{\"id\":\"4366\"},\"coordinates\":null,\"dimension\":1,\"grid_line_color\":null,\"group\":null,\"ticker\":null},\"id\":\"4369\",\"type\":\"Grid\"},{\"attributes\":{},\"id\":\"4360\",\"type\":\"LinearScale\"},{\"attributes\":{},\"id\":\"4427\",\"type\":\"UnionRenderers\"},{\"attributes\":{},\"id\":\"4370\",\"type\":\"SaveTool\"},{\"attributes\":{},\"id\":\"4367\",\"type\":\"BasicTicker\"},{\"attributes\":{},\"id\":\"4457\",\"type\":\"Selection\"},{\"attributes\":{\"axis\":{\"id\":\"4362\"},\"coordinates\":null,\"grid_line_color\":null,\"group\":null,\"ticker\":null},\"id\":\"4365\",\"type\":\"Grid\"},{\"attributes\":{},\"id\":\"4372\",\"type\":\"WheelZoomTool\"},{\"attributes\":{\"axis_label\":\"\",\"coordinates\":null,\"formatter\":{\"id\":\"4387\"},\"group\":null,\"major_label_policy\":{\"id\":\"4388\"},\"ticker\":{\"id\":\"4367\"}},\"id\":\"4366\",\"type\":\"LinearAxis\"},{\"attributes\":{\"margin\":[5,10,5,10],\"options\":[\"grass\",\"fire\",\"water\",\"bug\",\"normal\",\"poison\",\"electric\",\"ground\",\"fairy\",\"fighting\",\"psychic\",\"rock\",\"ghost\",\"ice\",\"dragon\",\"dark\",\"steel\",\"flying\"],\"title\":\"Type\",\"value\":\"grass\"},\"id\":\"4343\",\"type\":\"Select\"},{\"attributes\":{\"line_alpha\":0.1,\"line_color\":\"#6d904f\",\"line_width\":2,\"x\":{\"field\":\"index\"},\"y\":{\"field\":\"value\"}},\"id\":\"4460\",\"type\":\"Line\"},{\"attributes\":{\"overlay\":{\"id\":\"4375\"}},\"id\":\"4373\",\"type\":\"BoxZoomTool\"},{\"attributes\":{\"margin\":[5,5,5,5],\"name\":\"HSpacer13657\",\"sizing_mode\":\"stretch_width\"},\"id\":\"4344\",\"type\":\"Spacer\"},{\"attributes\":{},\"id\":\"4374\",\"type\":\"ResetTool\"},{\"attributes\":{\"line_color\":\"#8b8b8b\",\"line_width\":2,\"x\":{\"field\":\"index\"},\"y\":{\"field\":\"value\"}},\"id\":\"4509\",\"type\":\"Line\"},{\"attributes\":{\"coordinates\":null,\"data_source\":{\"id\":\"4456\"},\"glyph\":{\"id\":\"4459\"},\"group\":null,\"hover_glyph\":null,\"muted_glyph\":{\"id\":\"4461\"},\"nonselection_glyph\":{\"id\":\"4460\"},\"selection_glyph\":{\"id\":\"4481\"},\"view\":{\"id\":\"4463\"}},\"id\":\"4462\",\"type\":\"GlyphRenderer\"},{\"attributes\":{\"bottom_units\":\"screen\",\"coordinates\":null,\"fill_alpha\":0.5,\"fill_color\":\"lightgrey\",\"group\":null,\"left_units\":\"screen\",\"level\":\"overlay\",\"line_alpha\":1.0,\"line_color\":\"black\",\"line_dash\":[4,4],\"line_width\":2,\"right_units\":\"screen\",\"syncable\":false,\"top_units\":\"screen\"},\"id\":\"4375\",\"type\":\"BoxAnnotation\"},{\"attributes\":{},\"id\":\"4404\",\"type\":\"UnionRenderers\"},{\"attributes\":{\"data\":{\"Variable\":[\"attack\",\"attack\",\"attack\",\"attack\",\"attack\",\"attack\",\"attack\",\"attack\",\"attack\",\"attack\",\"attack\",\"attack\",\"attack\",\"attack\",\"attack\",\"attack\",\"attack\",\"attack\",\"attack\",\"attack\",\"attack\",\"attack\",\"attack\",\"attack\",\"attack\",\"attack\",\"attack\",\"attack\",\"attack\",\"attack\",\"attack\",\"attack\",\"attack\",\"attack\",\"attack\",\"attack\",\"attack\",\"attack\",\"attack\",\"attack\",\"attack\",\"attack\",\"attack\",\"attack\",\"attack\",\"attack\",\"attack\",\"attack\",\"attack\",\"attack\",\"attack\",\"attack\",\"attack\",\"attack\",\"attack\",\"attack\",\"attack\",\"attack\",\"attack\",\"attack\",\"attack\",\"attack\",\"attack\",\"attack\",\"attack\",\"attack\",\"attack\",\"attack\",\"attack\",\"attack\",\"attack\",\"attack\",\"attack\",\"attack\",\"attack\",\"attack\",\"attack\",\"attack\"],\"index\":[0,1,2,42,43,44,68,69,70,101,102,113,151,152,153,181,186,187,188,190,191,251,252,253,272,273,274,284,285,314,330,331,356,386,387,388,405,406,419,420,454,458,459,464,469,491,494,495,496,510,511,545,546,547,548,555,589,590,596,597,639,649,650,651,671,672,721,722,723,752,753,754,755,760,761,762,786,797],\"value\":[49,62,100,50,65,80,75,90,105,40,105,55,49,62,82,80,35,45,55,30,75,45,65,110,40,70,100,40,130,60,85,115,68,68,89,109,30,70,35,60,100,62,132,100,110,103,45,60,75,53,98,27,67,35,60,86,55,85,50,94,90,61,78,107,65,100,55,75,107,55,105,35,45,30,40,120,130,181]},\"selected\":{\"id\":\"4390\"},\"selection_policy\":{\"id\":\"4404\"}},\"id\":\"4389\",\"type\":\"ColumnDataSource\"},{\"attributes\":{\"children\":[{\"id\":\"4353\"}],\"margin\":[0,0,0,0],\"name\":\"Row13432\"},\"id\":\"4345\",\"type\":\"Row\"},{\"attributes\":{\"line_alpha\":0.2,\"line_color\":\"#6d904f\",\"line_width\":2,\"x\":{\"field\":\"index\"},\"y\":{\"field\":\"value\"}},\"id\":\"4461\",\"type\":\"Line\"},{\"attributes\":{\"label\":{\"value\":\"sp_defense\"},\"renderers\":[{\"id\":\"4462\"}]},\"id\":\"4480\",\"type\":\"LegendItem\"},{\"attributes\":{},\"id\":\"4385\",\"type\":\"AllLabels\"},{\"attributes\":{\"tools\":[{\"id\":\"4348\"},{\"id\":\"4370\"},{\"id\":\"4371\"},{\"id\":\"4372\"},{\"id\":\"4373\"},{\"id\":\"4374\"}]},\"id\":\"4376\",\"type\":\"Toolbar\"},{\"attributes\":{\"line_color\":\"#fc4f30\",\"line_width\":2,\"x\":{\"field\":\"index\"},\"y\":{\"field\":\"value\"}},\"id\":\"4431\",\"type\":\"Line\"}],\"root_ids\":[\"4339\",\"4726\"]},\"title\":\"Bokeh Application\",\"version\":\"2.4.1\"}};\n",
       "    var render_items = [{\"docid\":\"91b3f10b-2dbe-477c-9e3e-71d74f6de4bb\",\"root_ids\":[\"4339\"],\"roots\":{\"4339\":\"bf89f403-f60a-422b-9f51-b332b36b50a3\"}}];\n",
       "    root.Bokeh.embed.embed_items_notebook(docs_json, render_items);\n",
       "  }\n",
       "  if (root.Bokeh !== undefined && root.Bokeh.Panel !== undefined) {\n",
       "    embed_document(root);\n",
       "  } else {\n",
       "    var attempts = 0;\n",
       "    var timer = setInterval(function(root) {\n",
       "      if (root.Bokeh !== undefined && root.Bokeh.Panel !== undefined) {\n",
       "        clearInterval(timer);\n",
       "        embed_document(root);\n",
       "      } else if (document.readyState == \"complete\") {\n",
       "        attempts++;\n",
       "        if (attempts > 200) {\n",
       "          clearInterval(timer);\n",
       "          console.log(\"Bokeh: ERROR: Unable to run BokehJS code because BokehJS library is missing\");\n",
       "        }\n",
       "      }\n",
       "    }, 25, root)\n",
       "  }\n",
       "})(window);</script>"
      ],
      "text/plain": [
       "<hvplot.interactive.Interactive at 0x25552624fa0>"
      ]
     },
     "execution_count": 40,
     "metadata": {
      "application/vnd.holoviews_exec.v0+json": {
       "id": "4339"
      }
     },
     "output_type": "execute_result"
    }
   ],
   "source": [
    "# https://hvplot.holoviz.org/reference/pandas/violin.html\n",
    "# Create interaction with data\n",
    "data_pipeline1 = (\n",
    "    idf[idf.type1 == pok_type][['attack', 'defense', 'sp_attack', 'sp_defense', 'speed']]\n",
    ")\n",
    "viz2 = data_pipeline1.hvplot(kind='line', \n",
    "                             title='AVG Stats per Type', \n",
    "                             # color='orange'\n",
    "                            ) \n",
    "viz2"
   ]
  },
  {
   "cell_type": "markdown",
   "id": "a561b077-6ddf-4bf8-b8f9-6e462d5b1107",
   "metadata": {},
   "source": [
    "## VIZ 3 - Bar: Against_type"
   ]
  },
  {
   "cell_type": "code",
   "execution_count": 8,
   "id": "34d233ff-b2ae-4d6a-9796-badf7e4be649",
   "metadata": {},
   "outputs": [
    {
     "data": {},
     "metadata": {},
     "output_type": "display_data"
    },
    {
     "data": {},
     "metadata": {},
     "output_type": "display_data"
    },
    {
     "data": {
      "application/vnd.holoviews_exec.v0+json": "",
      "text/html": [
       "<div id='1937'>\n",
       "\n",
       "\n",
       "\n",
       "\n",
       "\n",
       "  <div class=\"bk-root\" id=\"6fe14ced-b535-47ed-a899-72f898c3dd43\" data-root-id=\"1937\"></div>\n",
       "</div>\n",
       "<script type=\"application/javascript\">(function(root) {\n",
       "  function embed_document(root) {\n",
       "    var docs_json = {\"3b85f523-bf15-4506-b39f-e9cf0320fd88\":{\"defs\":[{\"extends\":null,\"module\":null,\"name\":\"ReactiveHTML1\",\"overrides\":[],\"properties\":[]},{\"extends\":null,\"module\":null,\"name\":\"FlexBox1\",\"overrides\":[],\"properties\":[{\"default\":\"flex-start\",\"kind\":null,\"name\":\"align_content\"},{\"default\":\"flex-start\",\"kind\":null,\"name\":\"align_items\"},{\"default\":\"row\",\"kind\":null,\"name\":\"flex_direction\"},{\"default\":\"wrap\",\"kind\":null,\"name\":\"flex_wrap\"},{\"default\":\"flex-start\",\"kind\":null,\"name\":\"justify_content\"}]},{\"extends\":null,\"module\":null,\"name\":\"TemplateActions1\",\"overrides\":[],\"properties\":[{\"default\":0,\"kind\":null,\"name\":\"open_modal\"},{\"default\":0,\"kind\":null,\"name\":\"close_modal\"}]},{\"extends\":null,\"module\":null,\"name\":\"MaterialTemplateActions1\",\"overrides\":[],\"properties\":[{\"default\":0,\"kind\":null,\"name\":\"open_modal\"},{\"default\":0,\"kind\":null,\"name\":\"close_modal\"}]}],\"roots\":{\"references\":[{\"attributes\":{\"coordinates\":null,\"data_source\":{\"id\":\"1977\"},\"glyph\":{\"id\":\"1980\"},\"group\":null,\"hover_glyph\":{\"id\":\"1983\"},\"muted_glyph\":{\"id\":\"1984\"},\"nonselection_glyph\":{\"id\":\"1981\"},\"selection_glyph\":{\"id\":\"1982\"},\"view\":{\"id\":\"1986\"}},\"id\":\"1985\",\"type\":\"GlyphRenderer\"},{\"attributes\":{\"fill_color\":{\"field\":\"color\",\"transform\":{\"id\":\"1976\"}},\"hatch_color\":{\"field\":\"color\",\"transform\":{\"id\":\"1976\"}},\"top\":{\"field\":\"Damage\"},\"width\":{\"value\":0.8},\"x\":{\"field\":\"index\"}},\"id\":\"1982\",\"type\":\"VBar\"},{\"attributes\":{\"children\":[{\"id\":\"1938\"}],\"margin\":[0,0,0,0],\"name\":\"Row05344\"},\"id\":\"1937\",\"type\":\"Row\"},{\"attributes\":{},\"id\":\"1990\",\"type\":\"CategoricalTickFormatter\"},{\"attributes\":{\"axis\":{\"id\":\"1956\"},\"coordinates\":null,\"grid_line_color\":null,\"group\":null,\"ticker\":null},\"id\":\"1958\",\"type\":\"Grid\"},{\"attributes\":{\"fill_color\":{\"field\":\"color\",\"transform\":{\"id\":\"1976\"}},\"hatch_color\":{\"field\":\"color\",\"transform\":{\"id\":\"1976\"}},\"top\":{\"field\":\"Damage\"},\"width\":{\"value\":0.8},\"x\":{\"field\":\"index\"}},\"id\":\"1980\",\"type\":\"VBar\"},{\"attributes\":{\"bar_line_color\":\"black\",\"color_mapper\":{\"id\":\"1976\"},\"coordinates\":null,\"group\":null,\"label_standoff\":8,\"location\":[0,0],\"major_label_policy\":{\"id\":\"1999\"},\"major_tick_line_color\":\"black\",\"ticker\":{\"id\":\"1987\"}},\"id\":\"1988\",\"type\":\"ColorBar\"},{\"attributes\":{\"client_comm_id\":\"272faacc36af4d6aa9dc53c7f6d55d47\",\"comm_id\":\"57c8abdef4234e8890a928a76e64de49\",\"plot_id\":\"1937\"},\"id\":\"2050\",\"type\":\"panel.models.comm_manager.CommManager\"},{\"attributes\":{},\"id\":\"1987\",\"type\":\"BasicTicker\"},{\"attributes\":{\"children\":[{\"id\":\"1939\"},{\"id\":\"1943\"}],\"margin\":[0,0,0,0],\"name\":\"Column05343\"},\"id\":\"1938\",\"type\":\"Column\"},{\"attributes\":{\"fill_alpha\":{\"value\":0.1},\"fill_color\":{\"field\":\"color\",\"transform\":{\"id\":\"1976\"}},\"hatch_alpha\":{\"value\":0.1},\"hatch_color\":{\"field\":\"color\",\"transform\":{\"id\":\"1976\"}},\"line_alpha\":{\"value\":0.1},\"top\":{\"field\":\"Damage\"},\"width\":{\"value\":0.8},\"x\":{\"field\":\"index\"}},\"id\":\"1981\",\"type\":\"VBar\"},{\"attributes\":{\"children\":[{\"id\":\"1940\"},{\"id\":\"1942\"}],\"margin\":[0,0,0,0],\"name\":\"Row05342\"},\"id\":\"1939\",\"type\":\"Row\"},{\"attributes\":{},\"id\":\"1952\",\"type\":\"CategoricalScale\"},{\"attributes\":{},\"id\":\"1991\",\"type\":\"AllLabels\"},{\"attributes\":{\"children\":[{\"id\":\"1941\"}],\"margin\":[0,0,0,0],\"name\":\"Column05203\"},\"id\":\"1940\",\"type\":\"Column\"},{\"attributes\":{\"margin\":[5,10,5,10],\"options\":[\"grass\",\"fire\",\"water\",\"bug\",\"normal\",\"poison\",\"electric\",\"ground\",\"fairy\",\"fighting\",\"psychic\",\"rock\",\"ghost\",\"ice\",\"dragon\",\"dark\",\"steel\",\"flying\"],\"title\":\"Type\",\"value\":\"grass\"},\"id\":\"1941\",\"type\":\"Select\"},{\"attributes\":{},\"id\":\"1954\",\"type\":\"LinearScale\"},{\"attributes\":{\"coordinates\":null,\"group\":null,\"text\":\"Weak against...\",\"text_color\":\"black\",\"text_font_size\":\"12pt\"},\"id\":\"1948\",\"type\":\"Title\"},{\"attributes\":{},\"id\":\"1964\",\"type\":\"PanTool\"},{\"attributes\":{\"children\":[{\"id\":\"1947\"}],\"margin\":[0,0,0,0],\"name\":\"Row05208\"},\"id\":\"1943\",\"type\":\"Row\"},{\"attributes\":{\"tools\":[{\"id\":\"1946\"},{\"id\":\"1963\"},{\"id\":\"1964\"},{\"id\":\"1965\"},{\"id\":\"1966\"},{\"id\":\"1967\"}]},\"id\":\"1969\",\"type\":\"Toolbar\"},{\"attributes\":{\"fill_color\":{\"field\":\"color\",\"transform\":{\"id\":\"1976\"}},\"hatch_color\":{\"field\":\"color\",\"transform\":{\"id\":\"1976\"}},\"top\":{\"field\":\"Damage\"},\"width\":{\"value\":0.8},\"x\":{\"field\":\"index\"}},\"id\":\"1983\",\"type\":\"VBar\"},{\"attributes\":{},\"id\":\"1999\",\"type\":\"NoOverlap\"},{\"attributes\":{},\"id\":\"1993\",\"type\":\"BasicTickFormatter\"},{\"attributes\":{\"fill_alpha\":{\"value\":0.2},\"fill_color\":{\"field\":\"color\",\"transform\":{\"id\":\"1976\"}},\"hatch_alpha\":{\"value\":0.2},\"hatch_color\":{\"field\":\"color\",\"transform\":{\"id\":\"1976\"}},\"line_alpha\":{\"value\":0.2},\"top\":{\"field\":\"Damage\"},\"width\":{\"value\":0.8},\"x\":{\"field\":\"index\"}},\"id\":\"1984\",\"type\":\"VBar\"},{\"attributes\":{\"margin\":[5,5,5,5],\"name\":\"HSpacer05341\",\"sizing_mode\":\"stretch_width\"},\"id\":\"1942\",\"type\":\"Spacer\"},{\"attributes\":{},\"id\":\"1994\",\"type\":\"AllLabels\"},{\"attributes\":{\"callback\":null,\"renderers\":[{\"id\":\"1985\"}],\"tags\":[\"hv_created\"],\"tooltips\":[[\"index\",\"@{index}\"],[\"Damage\",\"@{Damage}\"]]},\"id\":\"1946\",\"type\":\"HoverTool\"},{\"attributes\":{\"high\":2.1752577319587627,\"low\":0.45618556701030927,\"palette\":[\"#006837\",\"#016937\",\"#026b38\",\"#036d39\",\"#046f3a\",\"#05713b\",\"#06733c\",\"#07753d\",\"#08773e\",\"#09783f\",\"#0a7a40\",\"#0b7c41\",\"#0c7e42\",\"#0d8043\",\"#0e8244\",\"#0f8445\",\"#108646\",\"#118847\",\"#128948\",\"#138b49\",\"#148d4a\",\"#158f4b\",\"#16914c\",\"#17934d\",\"#18954e\",\"#19974f\",\"#1b9850\",\"#1e9a51\",\"#219b51\",\"#249d52\",\"#279e53\",\"#2a9f54\",\"#2da154\",\"#30a255\",\"#33a456\",\"#36a557\",\"#39a757\",\"#3ca858\",\"#3faa59\",\"#42ab5a\",\"#45ad5a\",\"#48ae5b\",\"#4baf5c\",\"#4eb15d\",\"#51b25d\",\"#54b45e\",\"#57b55f\",\"#5ab760\",\"#5db860\",\"#60ba61\",\"#63bb62\",\"#66bd63\",\"#68be63\",\"#6bbf63\",\"#6dc063\",\"#70c164\",\"#72c264\",\"#75c364\",\"#77c464\",\"#7ac565\",\"#7cc665\",\"#7fc765\",\"#81c966\",\"#84ca66\",\"#86cb66\",\"#89cc66\",\"#8bcd67\",\"#8ece67\",\"#90cf67\",\"#93d067\",\"#95d168\",\"#98d268\",\"#9ad468\",\"#9dd569\",\"#9fd669\",\"#a2d769\",\"#a4d869\",\"#a7d96a\",\"#a9da6b\",\"#abdb6d\",\"#addc6e\",\"#afdc6f\",\"#b1dd71\",\"#b3de72\",\"#b5df73\",\"#b7e075\",\"#b9e176\",\"#bbe277\",\"#bde278\",\"#bfe37a\",\"#c1e47b\",\"#c3e57c\",\"#c5e67e\",\"#c7e77f\",\"#c9e880\",\"#cbe881\",\"#cde983\",\"#cfea84\",\"#d1eb85\",\"#d3ec87\",\"#d5ed88\",\"#d7ee89\",\"#d9ef8b\",\"#daef8d\",\"#dbf08f\",\"#ddf091\",\"#def193\",\"#e0f295\",\"#e1f297\",\"#e3f399\",\"#e4f49b\",\"#e6f49d\",\"#e7f59f\",\"#e9f5a1\",\"#eaf6a3\",\"#ecf7a5\",\"#edf7a7\",\"#eff8a9\",\"#f0f9ab\",\"#f2f9ad\",\"#f3faaf\",\"#f5fab1\",\"#f6fbb3\",\"#f8fcb5\",\"#f9fcb7\",\"#fbfdb9\",\"#fcfebb\",\"#fefebd\",\"#fefebd\",\"#fefdbb\",\"#fefbb9\",\"#fefab7\",\"#fef9b5\",\"#fef8b3\",\"#fef7b1\",\"#fef5af\",\"#fef4ad\",\"#fef3ab\",\"#fef2a9\",\"#fef1a7\",\"#feefa5\",\"#feeea3\",\"#feeda1\",\"#feec9f\",\"#feea9d\",\"#fee99b\",\"#fee899\",\"#fee797\",\"#fee695\",\"#fee493\",\"#fee391\",\"#fee28f\",\"#fee18d\",\"#fee08b\",\"#fdde89\",\"#fddc87\",\"#fdda86\",\"#fdd884\",\"#fdd682\",\"#fdd481\",\"#fdd27f\",\"#fdd07d\",\"#fdce7c\",\"#fdcc7a\",\"#fdca78\",\"#fdc877\",\"#fdc675\",\"#fdc473\",\"#fdc272\",\"#fdc070\",\"#fdbe6f\",\"#fdbc6d\",\"#fdba6b\",\"#fdb86a\",\"#fdb668\",\"#fdb466\",\"#fdb265\",\"#fdb063\",\"#fdae61\",\"#fcac60\",\"#fcaa5f\",\"#fca75e\",\"#fba55c\",\"#fba25b\",\"#fb9f5a\",\"#fa9d59\",\"#fa9a58\",\"#fa9857\",\"#f99555\",\"#f99354\",\"#f89053\",\"#f88e52\",\"#f88b51\",\"#f7894f\",\"#f7864e\",\"#f7834d\",\"#f6814c\",\"#f67e4b\",\"#f67c4a\",\"#f57948\",\"#f57747\",\"#f57446\",\"#f47245\",\"#f46f44\",\"#f46d43\",\"#f26a41\",\"#f16840\",\"#f0653f\",\"#ef633e\",\"#ee613d\",\"#ed5e3c\",\"#ec5c3b\",\"#ea593a\",\"#e95739\",\"#e85538\",\"#e75236\",\"#e65035\",\"#e54d34\",\"#e44b33\",\"#e24932\",\"#e14631\",\"#e04430\",\"#df412f\",\"#de3f2e\",\"#dd3d2d\",\"#dc3a2b\",\"#da382a\",\"#d93529\",\"#d83328\",\"#d73127\",\"#d62f26\",\"#d42d26\",\"#d22b26\",\"#d02926\",\"#ce2726\",\"#cc2526\",\"#ca2326\",\"#c82126\",\"#c62026\",\"#c41e26\",\"#c21c26\",\"#c01a26\",\"#be1826\",\"#bc1626\",\"#ba1426\",\"#b81226\",\"#b61026\",\"#b40f26\",\"#b20d26\",\"#b00b26\",\"#ae0926\",\"#ac0726\",\"#aa0526\",\"#a80326\",\"#a60126\",\"#a50026\"]},\"id\":\"1976\",\"type\":\"LinearColorMapper\"},{\"attributes\":{},\"id\":\"1957\",\"type\":\"CategoricalTicker\"},{\"attributes\":{\"axis\":{\"id\":\"1959\"},\"coordinates\":null,\"dimension\":1,\"grid_line_color\":null,\"group\":null,\"ticker\":null},\"id\":\"1962\",\"type\":\"Grid\"},{\"attributes\":{\"below\":[{\"id\":\"1956\"}],\"center\":[{\"id\":\"1958\"},{\"id\":\"1962\"}],\"height\":300,\"left\":[{\"id\":\"1959\"}],\"margin\":[5,5,5,5],\"min_border_bottom\":10,\"min_border_left\":10,\"min_border_right\":10,\"min_border_top\":10,\"renderers\":[{\"id\":\"1985\"}],\"right\":[{\"id\":\"1988\"}],\"sizing_mode\":\"fixed\",\"title\":{\"id\":\"1948\"},\"toolbar\":{\"id\":\"1969\"},\"width\":1000,\"x_range\":{\"id\":\"1944\"},\"x_scale\":{\"id\":\"1952\"},\"y_range\":{\"id\":\"1945\"},\"y_scale\":{\"id\":\"1954\"}},\"id\":\"1947\",\"subtype\":\"Figure\",\"type\":\"Plot\"},{\"attributes\":{\"data\":{\"Damage\":{\"__ndarray__\":\"jKsfdFTg+z/JNGw3y5PwP87yJDIN2+0/gS+uftBR4T9PItOw3SzvP1z9oKMCX+w/eRKZhu1mAUCZhu1meRIBQKnAF1c/6PA/DdvN8iQy3T9iu1meRKbhP9BRgS+ufgBADdvN8iQy7T8tTyLTsN38P1KBL65+0PE/Wp5EpmG78T+howJfXP3wP+iowBdXP+A/\",\"dtype\":\"float64\",\"order\":\"little\",\"shape\":[18]},\"color\":{\"__ndarray__\":\"jKsfdFTg+z/JNGw3y5PwP87yJDIN2+0/gS+uftBR4T9PItOw3SzvP1z9oKMCX+w/eRKZhu1mAUCZhu1meRIBQKnAF1c/6PA/DdvN8iQy3T9iu1meRKbhP9BRgS+ufgBADdvN8iQy7T8tTyLTsN38P1KBL65+0PE/Wp5EpmG78T+howJfXP3wP+iowBdXP+A/\",\"dtype\":\"float64\",\"order\":\"little\",\"shape\":[18]},\"index\":[\"against_bug\",\"against_dark\",\"against_dragon\",\"against_electric\",\"against_fairy\",\"against_fight\",\"against_fire\",\"against_flying\",\"against_ghost\",\"against_grass\",\"against_ground\",\"against_ice\",\"against_normal\",\"against_poison\",\"against_psychic\",\"against_rock\",\"against_steel\",\"against_water\"]},\"selected\":{\"id\":\"1978\"},\"selection_policy\":{\"id\":\"2003\"}},\"id\":\"1977\",\"type\":\"ColumnDataSource\"},{\"attributes\":{\"axis_label\":\"\",\"coordinates\":null,\"formatter\":{\"id\":\"1990\"},\"group\":null,\"major_label_orientation\":0.7853981633974483,\"major_label_policy\":{\"id\":\"1991\"},\"ticker\":{\"id\":\"1957\"}},\"id\":\"1956\",\"type\":\"CategoricalAxis\"},{\"attributes\":{\"end\":2.347164948453608,\"reset_end\":2.347164948453608,\"reset_start\":0.0,\"tags\":[[[\"Damage\",\"Damage\",null]]]},\"id\":\"1945\",\"type\":\"Range1d\"},{\"attributes\":{\"factors\":[\"against_bug\",\"against_dark\",\"against_dragon\",\"against_electric\",\"against_fairy\",\"against_fight\",\"against_fire\",\"against_flying\",\"against_ghost\",\"against_grass\",\"against_ground\",\"against_ice\",\"against_normal\",\"against_poison\",\"against_psychic\",\"against_rock\",\"against_steel\",\"against_water\"],\"tags\":[[[\"index\",\"index\",null]]]},\"id\":\"1944\",\"type\":\"FactorRange\"},{\"attributes\":{},\"id\":\"2003\",\"type\":\"UnionRenderers\"},{\"attributes\":{\"axis_label\":\"\",\"coordinates\":null,\"formatter\":{\"id\":\"1993\"},\"group\":null,\"major_label_policy\":{\"id\":\"1994\"},\"ticker\":{\"id\":\"1960\"}},\"id\":\"1959\",\"type\":\"LinearAxis\"},{\"attributes\":{},\"id\":\"1978\",\"type\":\"Selection\"},{\"attributes\":{},\"id\":\"1960\",\"type\":\"BasicTicker\"},{\"attributes\":{},\"id\":\"1965\",\"type\":\"WheelZoomTool\"},{\"attributes\":{},\"id\":\"1963\",\"type\":\"SaveTool\"},{\"attributes\":{\"overlay\":{\"id\":\"1968\"}},\"id\":\"1966\",\"type\":\"BoxZoomTool\"},{\"attributes\":{},\"id\":\"1967\",\"type\":\"ResetTool\"},{\"attributes\":{\"bottom_units\":\"screen\",\"coordinates\":null,\"fill_alpha\":0.5,\"fill_color\":\"lightgrey\",\"group\":null,\"left_units\":\"screen\",\"level\":\"overlay\",\"line_alpha\":1.0,\"line_color\":\"black\",\"line_dash\":[4,4],\"line_width\":2,\"right_units\":\"screen\",\"syncable\":false,\"top_units\":\"screen\"},\"id\":\"1968\",\"type\":\"BoxAnnotation\"},{\"attributes\":{\"source\":{\"id\":\"1977\"}},\"id\":\"1986\",\"type\":\"CDSView\"}],\"root_ids\":[\"1937\",\"2050\"]},\"title\":\"Bokeh Application\",\"version\":\"2.4.1\"}};\n",
       "    var render_items = [{\"docid\":\"3b85f523-bf15-4506-b39f-e9cf0320fd88\",\"root_ids\":[\"1937\"],\"roots\":{\"1937\":\"6fe14ced-b535-47ed-a899-72f898c3dd43\"}}];\n",
       "    root.Bokeh.embed.embed_items_notebook(docs_json, render_items);\n",
       "  }\n",
       "  if (root.Bokeh !== undefined && root.Bokeh.Panel !== undefined) {\n",
       "    embed_document(root);\n",
       "  } else {\n",
       "    var attempts = 0;\n",
       "    var timer = setInterval(function(root) {\n",
       "      if (root.Bokeh !== undefined && root.Bokeh.Panel !== undefined) {\n",
       "        clearInterval(timer);\n",
       "        embed_document(root);\n",
       "      } else if (document.readyState == \"complete\") {\n",
       "        attempts++;\n",
       "        if (attempts > 200) {\n",
       "          clearInterval(timer);\n",
       "          console.log(\"Bokeh: ERROR: Unable to run BokehJS code because BokehJS library is missing\");\n",
       "        }\n",
       "      }\n",
       "    }, 25, root)\n",
       "  }\n",
       "})(window);</script>"
      ],
      "text/plain": [
       "<hvplot.interactive.Interactive at 0x2554f11e5b0>"
      ]
     },
     "execution_count": 8,
     "metadata": {
      "application/vnd.holoviews_exec.v0+json": {
       "id": "1937"
      }
     },
     "output_type": "execute_result"
    }
   ],
   "source": [
    "viz3 = data_pipeline.iloc[:, 1:19].mean().rename('Damage').hvplot(kind='bar', \n",
    "                                                           title='Weak against...', \n",
    "                                                           width=1000, rot=45, \n",
    "                                                           c='Damage', colorbar=True, colormap='RdYlGn_r' )\n",
    "viz3"
   ]
  },
  {
   "cell_type": "markdown",
   "id": "9241b233-2d4a-43a4-b3f8-23cee9e4d1ae",
   "metadata": {},
   "source": [
    "# Dashboard"
   ]
  },
  {
   "cell_type": "code",
   "execution_count": 9,
   "id": "9f9e7247-f28e-412a-83fa-5092dc4f5746",
   "metadata": {},
   "outputs": [],
   "source": [
    "template = pn.template.FastListTemplate(theme=DarkTheme,\n",
    "    title = 'Pokemon VIZ',\n",
    "    sidebar=[\n",
    "        pn.pane.Markdown('# Super Title'),\n",
    "        pn.pane.Markdown('#### Lorem ipsum dolor sit amet. Non quibusdam voluptates et rerum nulla non officiis optio in voluptatem fuga 33 voluptatum debitis et perspiciatis doloremque. Quo incidunt laborum 33 excepturi dolores ad repellendus quibusdam ut culpa omnis. Ea quae molestias aut nihil facilis et deleniti asperiores.'),\n",
    "        pn.pane.JPG('thimo-pedersen-dip9IIwUK6w-unsplash.jpg', sizing_mode='scale_both'),\n",
    "        pn.pane.Markdown('[Photo by Thimo Pedersen on Unsplash](https://unsplash.com/photos/dip9IIwUK6w)'),\n",
    "        pn.pane.Markdown('## Filter by Type'),\n",
    "        pok_type\n",
    "    ],\n",
    "    main=[\n",
    "        pn.Row(\n",
    "                    pn.Column(pn.Row(\n",
    "                              pn.Column(viz1.panel(width=700, height=400, margin=(0,25))), \n",
    "                              pn.Column(viz2.panel(width=600, height=400)),\n",
    "                                    ),\n",
    "                          pn.Row(\n",
    "                              pn.Column(viz0.panel(width=700), margin=(0,25)), \n",
    "                              pn.Column(viz3.panel(width=700))\n",
    "                            )\n",
    "                         ))\n",
    "    ],\n",
    "    accent_base_color='#d78929',\n",
    "    header_background='#d78929',\n",
    "    sidebar_footer='<br><br><br><hr><br><a href=\"https://github.com/pcmaldonado/DeployViz\">GitHub Repository</a>',       \n",
    "    main_max_width='100%'                                        \n",
    ")\n",
    "\n",
    "template.servable();"
   ]
  },
  {
   "cell_type": "code",
   "execution_count": 10,
   "id": "539d9214-2793-465c-805d-88dda86af872",
   "metadata": {},
   "outputs": [],
   "source": [
    "# template.show()"
   ]
  },
  {
   "cell_type": "code",
   "execution_count": null,
   "id": "96f38739-733d-4f82-a6f8-9307a7c07671",
   "metadata": {},
   "outputs": [],
   "source": []
  }
 ],
 "metadata": {
  "kernelspec": {
   "display_name": "Python 3 (ipykernel)",
   "language": "python",
   "name": "python3"
  },
  "language_info": {
   "codemirror_mode": {
    "name": "ipython",
    "version": 3
   },
   "file_extension": ".py",
   "mimetype": "text/x-python",
   "name": "python",
   "nbconvert_exporter": "python",
   "pygments_lexer": "ipython3",
   "version": "3.9.7"
  }
 },
 "nbformat": 4,
 "nbformat_minor": 5
}
